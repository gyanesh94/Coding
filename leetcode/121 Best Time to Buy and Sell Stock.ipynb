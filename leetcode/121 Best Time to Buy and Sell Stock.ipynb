{
 "cells": [
  {
   "cell_type": "markdown",
   "metadata": {},
   "source": [
    "[Question](https://leetcode.com/problems/best-time-to-buy-and-sell-stock/)\n",
    "\n",
    "Say you have an array for which the ith element is the price of a given stock on day i.\n",
    "\n",
    "If you were only permitted to complete at most one transaction (i.e., buy one and sell one share of the stock), design an algorithm to find the maximum profit.\n",
    "\n",
    "Note that you cannot sell a stock before you buy one.\n",
    "\n",
    "Example 1:\n",
    "```\n",
    "Input: [7,1,5,3,6,4]\n",
    "Output: 5\n",
    "Explanation: Buy on day 2 (price = 1) and sell on day 5 (price = 6), profit = 6-1 = 5.\n",
    "             Not 7-1 = 6, as selling price needs to be larger than buying price.\n",
    "```\n",
    "\n",
    "Example 2:\n",
    "```\n",
    "Input: [7,6,4,3,1]\n",
    "Output: 0\n",
    "Explanation: In this case, no transaction is done, i.e. max profit = 0.\n",
    "```"
   ]
  },
  {
   "cell_type": "markdown",
   "metadata": {},
   "source": [
    "Case: O(n^2)"
   ]
  },
  {
   "cell_type": "code",
   "execution_count": 5,
   "metadata": {},
   "outputs": [
    {
     "name": "stdout",
     "output_type": "stream",
     "text": [
      "5\n",
      "0\n",
      "4\n",
      "0\n",
      "0\n"
     ]
    }
   ],
   "source": [
    "class Solution(object):\n",
    "    def maxProfit(self, prices):\n",
    "        \"\"\"\n",
    "        :type prices: List[int]\n",
    "        :rtype: int\n",
    "        \"\"\"\n",
    "        len_prices = len(prices)\n",
    "        max_profit = 0\n",
    "        for start in range(len_prices - 1):\n",
    "            buy = prices[start]\n",
    "            for end in range(start + 1, len_prices):\n",
    "                max_profit = max(max_profit, prices[end] - buy)\n",
    "        return max_profit\n",
    "        \n",
    "print(Solution().maxProfit([7,1,5,3,6,4]))\n",
    "print(Solution().maxProfit([7,6,4,3,1]))\n",
    "print(Solution().maxProfit([2,6,1,4]))\n",
    "print(Solution().maxProfit([2]))\n",
    "print(Solution().maxProfit([]))"
   ]
  },
  {
   "cell_type": "markdown",
   "metadata": {},
   "source": [
    "Optimized O(n)"
   ]
  },
  {
   "cell_type": "code",
   "execution_count": 8,
   "metadata": {},
   "outputs": [
    {
     "name": "stdout",
     "output_type": "stream",
     "text": [
      "5\n",
      "0\n",
      "4\n",
      "0\n",
      "0\n"
     ]
    }
   ],
   "source": [
    "class Solution(object):\n",
    "    def maxProfit(self, prices):\n",
    "        \"\"\"\n",
    "        :type prices: List[int]\n",
    "        :rtype: int\n",
    "        \"\"\"\n",
    "        if not len(prices):\n",
    "            return 0\n",
    "        max_profit = 0\n",
    "        buy = prices[0]\n",
    "        for new_price_index in range(1, len(prices)):\n",
    "            new_price = prices[new_price_index]\n",
    "            if new_price > buy:\n",
    "                max_profit = max(max_profit, new_price - buy)\n",
    "            else:\n",
    "                buy = new_price\n",
    "        return max_profit\n",
    "        \n",
    "print(Solution().maxProfit([7,1,5,3,6,4]))\n",
    "print(Solution().maxProfit([7,6,4,3,1]))\n",
    "print(Solution().maxProfit([2,6,1,4]))\n",
    "print(Solution().maxProfit([2]))\n",
    "print(Solution().maxProfit([]))"
   ]
  },
  {
   "cell_type": "markdown",
   "metadata": {},
   "source": [
    "Extra's"
   ]
  }
 ],
 "metadata": {
  "kernelspec": {
   "display_name": "Python 3",
   "language": "python",
   "name": "python3"
  },
  "language_info": {
   "codemirror_mode": {
    "name": "ipython",
    "version": 3
   },
   "file_extension": ".py",
   "mimetype": "text/x-python",
   "name": "python",
   "nbconvert_exporter": "python",
   "pygments_lexer": "ipython3",
   "version": "3.7.3"
  }
 },
 "nbformat": 4,
 "nbformat_minor": 2
}
