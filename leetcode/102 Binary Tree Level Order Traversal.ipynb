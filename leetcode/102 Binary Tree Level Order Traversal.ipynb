{
 "cells": [
  {
   "cell_type": "markdown",
   "metadata": {},
   "source": [
    "[Question](https://leetcode.com/problems/binary-tree-level-order-traversal/description/)\n",
    "\n",
    "Given a binary tree, return the level order traversal of its nodes' values. (ie, from left to right, level by level).\n",
    "\n",
    "For example:\n",
    "Given binary tree [3,9,20,null,null,15,7],\n",
    "\n",
    "```\n",
    "    3\n",
    "   / \\\n",
    "  9  20\n",
    "    /  \\\n",
    "   15   7\n",
    "```\n",
    "return its level order traversal as:\n",
    "\n",
    "```\n",
    "[\n",
    "  [3],\n",
    "  [9,20],\n",
    "  [15,7]\n",
    "]\n",
    "```"
   ]
  },
  {
   "cell_type": "code",
   "execution_count": 1,
   "metadata": {},
   "outputs": [],
   "source": [
    "from common_code.list_to_tree_conversion import convertListToTreeNode\n",
    "from common_code.list_to_tree_conversion import TreeNode"
   ]
  },
  {
   "cell_type": "code",
   "execution_count": null,
   "metadata": {},
   "outputs": [],
   "source": [
    "class Solution(object):\n",
    "    def levelOrder(self, root):\n",
    "        \"\"\"\n",
    "        :type root: TreeNode\n",
    "        :rtype: List[List[int]]\n",
    "        \"\"\"\n",
    "        result = dict()\n",
    "        queue = []\n",
    "        queue.append((root, 0))\n",
    "\n",
    "        while queue:\n",
    "            root, depth = queue.pop(0)\n",
    "            if root is None:\n",
    "                continue\n",
    "            if not result.get(depth, None):\n",
    "                result[depth] = [root.val]\n",
    "            else:\n",
    "                result[depth].append(root.val)\n",
    "            queue.append((root.left, depth + 1))\n",
    "            queue.append((root.right, depth + 1))\n",
    "\n",
    "        return [result[i] for i in sorted(result.keys())]\n",
    "\n",
    "\n",
    "print Solution().levelOrder(convertListToTreeNode([3, 9, 20, None, None, 15, 7]))\n"
   ]
  }
 ],
 "metadata": {
  "kernelspec": {
   "display_name": "Python 2",
   "language": "python",
   "name": "python2"
  },
  "language_info": {
   "codemirror_mode": {
    "name": "ipython",
    "version": 2
   },
   "file_extension": ".py",
   "mimetype": "text/x-python",
   "name": "python",
   "nbconvert_exporter": "python",
   "pygments_lexer": "ipython2",
   "version": "2.7.14"
  }
 },
 "nbformat": 4,
 "nbformat_minor": 2
}
