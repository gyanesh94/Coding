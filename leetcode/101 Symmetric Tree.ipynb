{
 "cells": [
  {
   "cell_type": "markdown",
   "metadata": {},
   "source": [
    "[Question](https://leetcode.com/problems/symmetric-tree/description/)\n",
    "\n",
    "Given a binary tree, check whether it is a mirror of itself (ie, symmetric around its center).\n",
    "\n",
    "For example, this binary tree [1,2,2,3,4,4,3] is symmetric:\n",
    "\n",
    "```\n",
    "    1\n",
    "   / \\\n",
    "  2   2\n",
    " / \\ / \\\n",
    "3  4 4  3\n",
    "```\n",
    "\n",
    "But the following [1,2,2,null,3,null,3] is not:\n",
    "\n",
    "```\n",
    "    1\n",
    "   / \\\n",
    "  2   2\n",
    "   \\   \\\n",
    "   3    3\n",
    "```\n",
    "\n",
    "Note:\n",
    "Bonus points if you could solve it both recursively and iteratively."
   ]
  },
  {
   "cell_type": "code",
   "execution_count": 1,
   "metadata": {},
   "outputs": [],
   "source": [
    "from common_code.list_to_tree_conversion import convertListToTreeNode"
   ]
  },
  {
   "cell_type": "code",
   "execution_count": 3,
   "metadata": {},
   "outputs": [
    {
     "name": "stdout",
     "output_type": "stream",
     "text": [
      "True\n",
      "False\n"
     ]
    }
   ],
   "source": [
    "# Definition for a binary tree node.\n",
    "# class TreeNode(object):\n",
    "#     def __init__(self, x):\n",
    "#         self.val = x\n",
    "#         self.left = None\n",
    "#         self.right = None\n",
    "\n",
    "class Solution(object):\n",
    "    def compareNodes(self, leftRoot, rightRoot):\n",
    "        if leftRoot.val != rightRoot.val:\n",
    "            return False\n",
    "\n",
    "        if (leftRoot.left is None and rightRoot.right is None) and \\\n",
    "            (leftRoot.right is None and rightRoot.left is None):\n",
    "            if leftRoot.val == rightRoot.val:\n",
    "                return True\n",
    "            else:\n",
    "                return False\n",
    "                \n",
    "        if (leftRoot.left is None and rightRoot.right is not None) or \\\n",
    "            (leftRoot.left is not None and rightRoot.right is None) or \\\n",
    "            (leftRoot.right is None and rightRoot.left is not None) or \\\n",
    "            (leftRoot.right is not None and rightRoot.left is None):\n",
    "            return False\n",
    "                \n",
    "        if leftRoot.left is not None and rightRoot.right is not None:\n",
    "            result = self.compareNodes(leftRoot.left, rightRoot.right)\n",
    "            if not result:\n",
    "                return False\n",
    "        if leftRoot.right is not None and rightRoot.left is not None:\n",
    "            return self.compareNodes(leftRoot.right, rightRoot.left)\n",
    "        \n",
    "        return True\n",
    "    \n",
    "    def isSymmetric(self, root):\n",
    "        \"\"\"\n",
    "        :type root: TreeNode\n",
    "        :rtype: bool\n",
    "        \"\"\"\n",
    "        if root is None:\n",
    "            return True\n",
    "        if root.left == None:\n",
    "            if root.right == None:\n",
    "                return True\n",
    "            else:\n",
    "                return False\n",
    "        if root.right == None:\n",
    "            if root.left == None:\n",
    "                return True\n",
    "            else:\n",
    "                return False\n",
    "        return self.compareNodes(root.left, root.right)\n",
    "\n",
    "print Solution().isSymmetric(convertListToTreeNode([1,2,2,3,4,4,3]))\n",
    "print Solution().isSymmetric(convertListToTreeNode([1,2,2,None,3,None,3]))"
   ]
  },
  {
   "cell_type": "markdown",
   "metadata": {},
   "source": [
    "### 2nd Solution"
   ]
  },
  {
   "cell_type": "code",
   "execution_count": null,
   "metadata": {},
   "outputs": [],
   "source": [
    "# Definition for a binary tree node.\n",
    "# class TreeNode(object):\n",
    "#     def __init__(self, x):\n",
    "#         self.val = x\n",
    "#         self.left = None\n",
    "#         self.right = None\n",
    "\n",
    "\n",
    "class Solution(object):\n",
    "    def isSymmetric(self, root):\n",
    "        \"\"\"\n",
    "        :type root: TreeNode\n",
    "        :rtype: bool\n",
    "        \"\"\"\n",
    "        if root is None:\n",
    "            return True\n",
    "\n",
    "        return self.find_symmetry(root.left, root.right)\n",
    "\n",
    "    def find_symmetry(self, l, r):\n",
    "        if not l and not r:\n",
    "            return True\n",
    "        if (not l and r) or (l and not r) or l.val != r.val:\n",
    "            return False\n",
    "\n",
    "        return self.find_symmetry(l.left, r.right) and self.find_symmetry(l.right, r.left) if l.val == r.val else False\n",
    "\n",
    "\n",
    "print Solution().isSymmetric(convertListToTreeNode([1, 2, 2, 3, 4, 4, 3]))\n",
    "print Solution().isSymmetric(convertListToTreeNode([1, 2, 2, None, 3, None, 3]))\n"
   ]
  },
  {
   "cell_type": "markdown",
   "metadata": {},
   "source": [
    "## Other Solutions"
   ]
  },
  {
   "cell_type": "markdown",
   "metadata": {},
   "source": [
    "### 1\n",
    "Basically, this question is recursively. Or we can say, the tree structure is recursively, so the recursively solution maybe easy to write:\n",
    "\n",
    "TC: O(b) SC: O(log n) "
   ]
  },
  {
   "cell_type": "code",
   "execution_count": null,
   "metadata": {},
   "outputs": [],
   "source": [
    "class Solution:\n",
    "  def isSymmetric(self, root):\n",
    "    if root is None:\n",
    "      return True\n",
    "    else:\n",
    "      return self.isMirror(root.left, root.right)\n",
    "\n",
    "  def isMirror(self, left, right):\n",
    "    if left is None and right is None:\n",
    "      return True\n",
    "    if left is None or right is None:\n",
    "      return False\n",
    "\n",
    "    if left.val == right.val:\n",
    "      outPair = self.isMirror(left.left, right.right)\n",
    "      inPiar = self.isMirror(left.right, right.left)\n",
    "      return outPair and inPiar\n",
    "    else:\n",
    "      return False"
   ]
  },
  {
   "cell_type": "markdown",
   "metadata": {},
   "source": [
    "### 2\n",
    "\n",
    "The essence of recursively is Stack, so we can use our own stack to rewrite it into iteratively:"
   ]
  },
  {
   "cell_type": "code",
   "execution_count": null,
   "metadata": {},
   "outputs": [],
   "source": [
    "class Solution2:\n",
    "  def isSymmetric(self, root):\n",
    "    if root is None:\n",
    "      return True\n",
    "\n",
    "    stack = [[root.left, root.right]]\n",
    "\n",
    "    while len(stack) > 0:\n",
    "      pair = stack.pop(0)\n",
    "      left = pair[0]\n",
    "      right = pair[1]\n",
    "\n",
    "      if left is None and right is None:\n",
    "        continue\n",
    "      if left is None or right is None:\n",
    "        return False\n",
    "      if left.val == right.val:\n",
    "        stack.insert(0, [left.left, right.right])\n",
    "\n",
    "        stack.insert(0, [left.right, right.left])\n",
    "      else:\n",
    "        return False\n",
    "    return True"
   ]
  },
  {
   "cell_type": "markdown",
   "metadata": {},
   "source": [
    "### 3"
   ]
  },
  {
   "cell_type": "code",
   "execution_count": null,
   "metadata": {},
   "outputs": [],
   "source": [
    "class Solution(object):\n",
    "    def isSymmetric(self, root):\n",
    "        \"\"\"\n",
    "        :type root: TreeNode\n",
    "        :rtype: bool\n",
    "        \"\"\"\n",
    "        def compare(r,l):\n",
    "            return r and l and r.val==l.val and compare(r.right,l.left) and compare(r.left,l.right) or r==l\n",
    "        return compare(root.right,root.left) if root else True"
   ]
  }
 ],
 "metadata": {
  "kernelspec": {
   "display_name": "Python 2",
   "language": "python",
   "name": "python2"
  },
  "language_info": {
   "codemirror_mode": {
    "name": "ipython",
    "version": 2
   },
   "file_extension": ".py",
   "mimetype": "text/x-python",
   "name": "python",
   "nbconvert_exporter": "python",
   "pygments_lexer": "ipython2",
   "version": "2.7.14"
  }
 },
 "nbformat": 4,
 "nbformat_minor": 2
}
