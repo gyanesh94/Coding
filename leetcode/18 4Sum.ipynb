{
 "cells": [
  {
   "cell_type": "markdown",
   "metadata": {},
   "source": [
    "[Question](https://leetcode.com/problems/4sum/)"
   ]
  },
  {
   "cell_type": "code",
   "execution_count": 2,
   "metadata": {},
   "outputs": [],
   "source": [
    "from typing import List"
   ]
  },
  {
   "cell_type": "code",
   "execution_count": 14,
   "metadata": {},
   "outputs": [
    {
     "name": "stdout",
     "output_type": "stream",
     "text": [
      "[-5, -5, -4, -3, -3, -2, 0, 2, 5]\n",
      "i: 2\tl1: 6\tl2: 7\tr: 8\n",
      "[[-4, 0, 2, 5]]\n",
      "[[-4, 0, 2, 5]]\n"
     ]
    }
   ],
   "source": [
    "class Solution:\n",
    "    def fourSum(self, nums: List[int], target: int) -> List[List[int]]:\n",
    "        nums.sort()\n",
    "        print(nums)\n",
    "        len_nums = len(nums)\n",
    "        result = []\n",
    "        i = 0\n",
    "        while i < len_nums - 3:\n",
    "            l1 = i + 1\n",
    "            while l1 < len_nums - 2:\n",
    "                l2 = l1 + 1\n",
    "                r = len_nums - 1\n",
    "                while l2 < r:\n",
    "                    diff = nums[i] + nums[l1] + nums[l2] + nums[r] - target\n",
    "                    if diff < 0:\n",
    "                        l2 += 1\n",
    "                    elif diff > 0:\n",
    "                        r -= 1\n",
    "                    else:\n",
    "                        result.append([nums[i], nums[l1], nums[l2], nums[r]])\n",
    "                        while l2 < r and nums[l2] == nums[l2 + 1]:\n",
    "                            l2 += 1\n",
    "                        while l2 < r and nums[r] == nums[r - 1]:\n",
    "                            r -= 1\n",
    "                        l2 += 1\n",
    "                        r -= 1\n",
    "                while l1 < len_nums - 2 and nums[l1] == nums[l1 + 1]:\n",
    "                    l1 += 1\n",
    "                l1 += 1\n",
    "            while i < len_nums - 3 and nums[i] == nums[i + 1]:\n",
    "                i += 1\n",
    "            i += 1\n",
    "        return result\n",
    "                        \n",
    "\n",
    "print(Solution().fourSum([1, 0, -1, 0, -2, 2], 0))\n",
    "print(Solution().fourSum([0,0,0,0], 0))\n",
    "print(Solution().fourSum([-3,-4,-5,0,-5,-2,5,2,-3], 3))        # Output [[-4,0,2,5]]"
   ]
  },
  {
   "cell_type": "markdown",
   "metadata": {},
   "source": [
    "**Other Methods**"
   ]
  },
  {
   "cell_type": "code",
   "execution_count": 23,
   "metadata": {},
   "outputs": [
    {
     "name": "stdout",
     "output_type": "stream",
     "text": [
      "[[-1, 0, 0, 1], [-2, 0, 0, 2], [-2, -1, 1, 2]]\n",
      "[[0, 0, 0, 0]]\n",
      "[[-4, 0, 2, 5]]\n"
     ]
    }
   ],
   "source": [
    "import collections\n",
    "import itertools\n",
    "\n",
    "class Solution:\n",
    "# @return a list of lists of length 4, [[val1,val2,val3,val4]]\n",
    "    def fourSum(self, num, target):\n",
    "        two_sum = collections.defaultdict(list)\n",
    "        res = set()\n",
    "        for (n1, i1), (n2, i2) in itertools.combinations(enumerate(num), 2):\n",
    "            two_sum[i1+i2].append({n1, n2})\n",
    "        for t in list(two_sum.keys()):\n",
    "            if not two_sum[target-t]:\n",
    "                continue\n",
    "            for pair1 in two_sum[t]:\n",
    "                for pair2 in two_sum[target-t]:\n",
    "                    if pair1.isdisjoint(pair2):\n",
    "                        res.add(tuple(sorted(num[i] for i in pair1 | pair2)))\n",
    "            del two_sum[t]\n",
    "        return [list(r) for r in res]\n",
    "\n",
    "print(Solution().fourSum([1, 0, -1, 0, -2, 2], 0))\n",
    "print(Solution().fourSum([0,0,0,0], 0))\n",
    "print(Solution().fourSum([-3,-4,-5,0,-5,-2,5,2,-3], 3))        # Output [[-4,0,2,5]]"
   ]
  },
  {
   "cell_type": "code",
   "execution_count": null,
   "metadata": {},
   "outputs": [],
   "source": []
  }
 ],
 "metadata": {
  "kernelspec": {
   "display_name": "Python 3",
   "language": "python",
   "name": "python3"
  },
  "language_info": {
   "codemirror_mode": {
    "name": "ipython",
    "version": 3
   },
   "file_extension": ".py",
   "mimetype": "text/x-python",
   "name": "python",
   "nbconvert_exporter": "python",
   "pygments_lexer": "ipython3",
   "version": "3.7.0"
  }
 },
 "nbformat": 4,
 "nbformat_minor": 2
}
