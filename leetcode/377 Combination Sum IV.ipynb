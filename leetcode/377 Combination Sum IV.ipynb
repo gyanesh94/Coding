{
 "cells": [
  {
   "cell_type": "markdown",
   "metadata": {},
   "source": [
    "[Question](https://leetcode.com/problems/combination-sum-iv/)"
   ]
  },
  {
   "cell_type": "code",
   "execution_count": 8,
   "metadata": {},
   "outputs": [
    {
     "name": "stdout",
     "output_type": "stream",
     "text": [
      "39882198\n"
     ]
    }
   ],
   "source": [
    "class Solution:\n",
    "    def combinationSum4(self, nums: 'List[int]', target: int) -> int:\n",
    "        nums = list(filter(lambda x: x <= target, nums))\n",
    "        len_nums = len(nums)\n",
    "        if len_nums == 0:\n",
    "            return 0\n",
    "        \n",
    "        self.result = 0\n",
    "        self.dfs(nums, target)\n",
    "        return self.result\n",
    "        \n",
    "    def dfs(self, nums, target):\n",
    "        if target < 0:\n",
    "            return\n",
    "        if target == 0:\n",
    "            self.result += 1\n",
    "        \n",
    "        for n in nums:\n",
    "            self.dfs(nums, target - n)\n",
    "\n",
    "# print(Solution().combinationSum4([1, 2, 3], 4))\n",
    "print(Solution().combinationSum4([4,2,1], 32))"
   ]
  },
  {
   "cell_type": "code",
   "execution_count": null,
   "metadata": {},
   "outputs": [],
   "source": []
  }
 ],
 "metadata": {
  "kernelspec": {
   "display_name": "Python 3",
   "language": "python",
   "name": "python3"
  },
  "language_info": {
   "codemirror_mode": {
    "name": "ipython",
    "version": 3
   },
   "file_extension": ".py",
   "mimetype": "text/x-python",
   "name": "python",
   "nbconvert_exporter": "python",
   "pygments_lexer": "ipython3",
   "version": "3.7.0"
  }
 },
 "nbformat": 4,
 "nbformat_minor": 2
}
