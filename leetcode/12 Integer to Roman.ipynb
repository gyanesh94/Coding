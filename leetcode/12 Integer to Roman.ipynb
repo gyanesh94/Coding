{
 "cells": [
  {
   "cell_type": "markdown",
   "metadata": {},
   "source": [
    "[Question](https://leetcode.com/problems/integer-to-roman/)"
   ]
  },
  {
   "cell_type": "code",
   "execution_count": 3,
   "metadata": {},
   "outputs": [
    {
     "name": "stdout",
     "output_type": "stream",
     "text": [
      "LVIII\n",
      "MCMXCIV\n"
     ]
    }
   ],
   "source": [
    "class Solution:\n",
    "    def intToRoman(self, num: 'int') -> 'str':\n",
    "        symbol_dict = {\n",
    "            1000: 'M',\n",
    "            500: 'D',\n",
    "            100: 'C',\n",
    "            50: 'L',\n",
    "            10: 'X',\n",
    "            5: 'V',\n",
    "            1: 'I'\n",
    "        }\n",
    "        \n",
    "        num_1 = 1\n",
    "        num_5 = 5\n",
    "        num_10 = 10\n",
    "        \n",
    "        result = []\n",
    "        while num > 0:\n",
    "            remainder = num % 10\n",
    "            if remainder <= 3 and remainder >= 0:\n",
    "                while remainder > 0:\n",
    "                    result.append(symbol_dict[num_1])\n",
    "                    remainder -= 1\n",
    "            elif remainder == 4:\n",
    "                result.extend([symbol_dict[num_5], symbol_dict[num_1]])\n",
    "            elif remainder <= 8 and remainder >= 5:\n",
    "                remainder -= 5\n",
    "                while remainder > 0:\n",
    "                    result.append(symbol_dict[num_1])\n",
    "                    remainder -= 1\n",
    "                result.append(symbol_dict[num_5])\n",
    "            elif remainder == 9:\n",
    "                result.extend([symbol_dict[num_10], symbol_dict[num_1]])\n",
    "            \n",
    "            num = num // 10\n",
    "            num_1 *= 10\n",
    "            num_5 *= 10\n",
    "            num_10 *= 10\n",
    "        \n",
    "        return \"\".join(reversed(result))\n",
    "\n",
    "print(Solution().intToRoman(58))      # Output \"LVIII\"\n",
    "print(Solution().intToRoman(1994))    # Output \"MCMXCIV\""
   ]
  },
  {
   "cell_type": "markdown",
   "metadata": {},
   "source": [
    "<b>Method 2</b>"
   ]
  },
  {
   "cell_type": "code",
   "execution_count": null,
   "metadata": {},
   "outputs": [],
   "source": [
    "def intToRoman(self, num):\n",
    "    values = [ 1000, 900, 500, 400, 100, 90, 50, 40, 10, 9, 5, 4, 1 ]\n",
    "    numerals = [ \"M\", \"CM\", \"D\", \"CD\", \"C\", \"XC\", \"L\", \"XL\", \"X\", \"IX\", \"V\", \"IV\", \"I\" ]\n",
    "    res = \"\"\n",
    "    for i, v in enumerate(values):\n",
    "        res += (num//v) * numerals[i]\n",
    "        num %= v\n",
    "    return res"
   ]
  },
  {
   "cell_type": "code",
   "execution_count": null,
   "metadata": {},
   "outputs": [],
   "source": [
    "def intToRoman(self, num):\n",
    "    values = [ 1000, 900, 500, 400, 100, 90, 50, 40, 10, 9, 5, 4, 1 ]\n",
    "    numerals = [ \"M\", \"CM\", \"D\", \"CD\", \"C\", \"XC\", \"L\", \"XL\", \"X\", \"IX\", \"V\", \"IV\", \"I\" ]\n",
    "    res = \"\"\n",
    "    for n, v in zip(numerals, values):\n",
    "        res += (num // v) * n\n",
    "        nums %= v \n",
    "    return res"
   ]
  }
 ],
 "metadata": {
  "kernelspec": {
   "display_name": "Python 3",
   "language": "python",
   "name": "python3"
  },
  "language_info": {
   "codemirror_mode": {
    "name": "ipython",
    "version": 3
   },
   "file_extension": ".py",
   "mimetype": "text/x-python",
   "name": "python",
   "nbconvert_exporter": "python",
   "pygments_lexer": "ipython3",
   "version": "3.7.0"
  }
 },
 "nbformat": 4,
 "nbformat_minor": 2
}
