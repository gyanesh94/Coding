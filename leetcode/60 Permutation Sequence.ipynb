{
 "cells": [
  {
   "cell_type": "markdown",
   "metadata": {},
   "source": [
    "[Question](https://leetcode.com/problems/permutation-sequence/)\n",
    "\n",
    "The set `[1,2,3,...,*n*]` contains a total of *n*! unique permutations.\n",
    "\n",
    "By listing and labeling all of the permutations in order, we get the following sequence for *n* = 3:\n",
    "\n",
    "1. `\"123\"`\n",
    "2. `\"132\"`\n",
    "3. `\"213\"`\n",
    "4. `\"231\"`\n",
    "5. `\"312\"`\n",
    "6. `\"321\"`\n",
    "\n",
    "Given *n* and *k*, return the *k*th permutation sequence.\n",
    "\n",
    "**Note:**\n",
    "\n",
    "- Given *n* will be between 1 and 9 inclusive.\n",
    "- Given *k* will be between 1 and *n*! inclusive.\n",
    "\n",
    "**Example 1:**\n",
    "\n",
    "```\n",
    "Input: n = 3, k = 3\n",
    "Output: \"213\"\n",
    "```\n",
    "\n",
    "**Example 2:**\n",
    "\n",
    "```\n",
    "Input: n = 4, k = 9\n",
    "Output: \"2314\"\n",
    "```"
   ]
  },
  {
   "cell_type": "code",
   "execution_count": 17,
   "metadata": {},
   "outputs": [
    {
     "name": "stdout",
     "output_type": "stream",
     "text": [
      "213\n",
      "231\n",
      "312\n",
      "2314\n",
      "3421\n",
      "4123\n",
      "138597642\n"
     ]
    }
   ],
   "source": [
    "from typing import List\n",
    "\n",
    "class Solution:\n",
    "    def getPermutation(self, n: int, k: int) -> str:\n",
    "        numbers = [i for i in range(1, n + 1)]\n",
    "        factorial = [0]\n",
    "        fact = 1\n",
    "        for i in range(1, n + 1):\n",
    "            fact *= i\n",
    "            factorial += fact, \n",
    "        return self.createPermutation(numbers, factorial, n, k - 1)\n",
    "    \n",
    "    def createPermutation(self, numbers: List[int], factorial: List[int], division: int, index: int) -> str:\n",
    "        if division == 0:\n",
    "            return \"\"\n",
    "        number_of_elements_in_one_division = factorial[division] / division\n",
    "        slot = int(index / number_of_elements_in_one_division)\n",
    "        digit = numbers.pop(slot)\n",
    "        index -=  (number_of_elements_in_one_division * slot)\n",
    "        division -= 1\n",
    "        return \"{}{}\".format(digit, self.createPermutation(numbers, factorial, division, index))\n",
    "        \n",
    "        \n",
    "print(Solution().getPermutation(3, 3))\n",
    "print(Solution().getPermutation(3, 4))\n",
    "print(Solution().getPermutation(3, 5))\n",
    "print(Solution().getPermutation(4, 9))\n",
    "print(Solution().getPermutation(4, 18))\n",
    "print(Solution().getPermutation(4, 19))\n",
    "print(Solution().getPermutation(9, 9000))"
   ]
  }
 ],
 "metadata": {
  "kernelspec": {
   "display_name": "Python 3",
   "language": "python",
   "name": "python3"
  },
  "language_info": {
   "codemirror_mode": {
    "name": "ipython",
    "version": 3
   },
   "file_extension": ".py",
   "mimetype": "text/x-python",
   "name": "python",
   "nbconvert_exporter": "python",
   "pygments_lexer": "ipython3",
   "version": "3.7.3"
  }
 },
 "nbformat": 4,
 "nbformat_minor": 2
}
