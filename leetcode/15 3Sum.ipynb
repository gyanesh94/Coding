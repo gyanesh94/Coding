{
 "cells": [
  {
   "cell_type": "markdown",
   "metadata": {},
   "source": [
    "[Question](https://leetcode.com/problems/3sum/)\n",
    "\n",
    "Given an array nums of n integers, are there elements a, b, c in nums such that a + b + c = 0? Find all unique triplets in the array which gives the sum of zero.\n",
    "\n",
    "Note:\n",
    "\n",
    "The solution set must not contain duplicate triplets.\n",
    "\n",
    "Example:\n",
    "```python\n",
    "Given array nums = [-1, 0, 1, 2, -1, -4],\n",
    "\n",
    "A solution set is:\n",
    "[\n",
    "  [-1, 0, 1],\n",
    "  [-1, -1, 2]\n",
    "]\n",
    "```"
   ]
  },
  {
   "cell_type": "markdown",
   "metadata": {},
   "source": [
    "**Method 1**: Brute Force O(n^2)"
   ]
  },
  {
   "cell_type": "code",
   "execution_count": 7,
   "metadata": {},
   "outputs": [
    {
     "name": "stdout",
     "output_type": "stream",
     "text": [
      "[[-1, 0, 1], [-1, -1, 2]]\n"
     ]
    }
   ],
   "source": [
    "class Solution(object):\n",
    "    def threeSum(self, nums):\n",
    "        \"\"\"\n",
    "        :type nums: List[int]\n",
    "        :rtype: List[List[int]]\n",
    "        \"\"\"\n",
    "        if len(nums) == 0:\n",
    "            return []\n",
    "        nums.sort()\n",
    "        zerothPosition = 0\n",
    "        for i in range(0, len(nums)):\n",
    "            if nums[i] >= 0:\n",
    "                zerothPosition = i\n",
    "                break\n",
    "        \n",
    "        negativePart = nums[:i]\n",
    "        positivePart = nums[i:]\n",
    "        \n",
    "        negativePartHash = self.createHaspMapoFAllCombinations(negativePart)\n",
    "        positivePartHash = self.createHaspMapoFAllCombinations(positivePart)\n",
    "        \n",
    "        result = []\n",
    "        numberOfZero = 0\n",
    "        for i in nums:\n",
    "            if i == 0:\n",
    "                numberOfZero += 1\n",
    "        if numberOfZero > 2:\n",
    "            result.append([0,0,0])\n",
    "        for negativeKey, negativeLists in negativePartHash.items():\n",
    "            for positiveKey, positiveLists in positivePartHash.items():\n",
    "                if negativeKey != positiveKey:\n",
    "                    continue\n",
    "                for negativeList in negativeLists:\n",
    "                    for positiveList in positiveLists:\n",
    "                        if len(negativeList) + len(positiveList) != 3:\n",
    "                            continue\n",
    "                        temp = negativeList + positiveList\n",
    "                        result.append(temp)\n",
    "        #result.sort()\n",
    "        return result\n",
    "                \n",
    "        \n",
    "    def createHaspMapoFAllCombinations(self, nums):\n",
    "        hashMap = {}\n",
    "        for i in nums:\n",
    "            if hashMap.get(abs(i), None) is None:\n",
    "                hashMap[abs(i)] = [[i]]\n",
    "            else:\n",
    "                if [i] not in hashMap[abs(i)]:\n",
    "                    hashMap[abs(i)].append([i])\n",
    "        for i in range(0, len(nums) - 1):\n",
    "            first = nums[i]\n",
    "            for j in range(i + 1, len(nums)):\n",
    "                second = nums[j]\n",
    "                if hashMap.get(abs(first + second), None) is None:\n",
    "                    hashMap[abs(first + second)] = [[first, second]]\n",
    "                else:\n",
    "                    if [first, second] not in hashMap[abs(first + second)]:\n",
    "                        hashMap[abs(first + second)].append([first, second])\n",
    "        return hashMap\n",
    "                \n",
    "print(Solution().threeSum([-1, 0, 1, 2, -1, -4]))"
   ]
  },
  {
   "cell_type": "markdown",
   "metadata": {},
   "source": [
    "**Method 2**"
   ]
  },
  {
   "cell_type": "code",
   "execution_count": 29,
   "metadata": {},
   "outputs": [
    {
     "name": "stdout",
     "output_type": "stream",
     "text": [
      "[-4, -2, -2, 0, 1, 2, 2, 3, 3, 4, 4, 6, 6]\n",
      "[[-4, -2, 6], [-4, 0, 4], [-4, 1, 3], [-4, 2, 2], [-2, -2, 4], [-2, 0, 2]]\n"
     ]
    }
   ],
   "source": [
    "class Solution:\n",
    "    def threeSum(self, nums: 'List[int]') -> 'List[List[int]]':\n",
    "        nums.sort()\n",
    "        len_nums = len(nums)\n",
    "        if len_nums < 3:\n",
    "            return []\n",
    "        result = []\n",
    "        \n",
    "        # Remove all same instances coming more than thrice\n",
    "        prev = nums[0]\n",
    "        count = 1\n",
    "        i = 1\n",
    "        # flag [0, 0, 0] added\n",
    "        is_added = False\n",
    "        while i < len_nums:\n",
    "            curr = nums[i]\n",
    "            if curr == prev:\n",
    "                if count >= 2:\n",
    "                    # Condition when three zeroes are present\n",
    "                    if curr == 0 and not is_added:\n",
    "                        is_added = True\n",
    "                        result.append([0, 0, 0])\n",
    "                    nums.pop(i)\n",
    "                    len_nums -= 1\n",
    "                    continue\n",
    "                else:\n",
    "                    count += 1\n",
    "            else:\n",
    "                prev = curr\n",
    "                count = 1\n",
    "            i += 1\n",
    "        \n",
    "        \n",
    "        # first value\n",
    "        for i in range(0, len_nums - 2):\n",
    "            num_1 = nums[i]\n",
    "            # second value\n",
    "            j = i + 1\n",
    "            # third value index to check all combinations\n",
    "            num_3_index = len_nums - 1\n",
    "            while j < num_3_index:\n",
    "                num_2 = nums[j]\n",
    "                \n",
    "                # not abs since we want -(a + b) = c\n",
    "                num_sum = (num_1 + num_2) * -1\n",
    "                \n",
    "                # decrease num_3_index till left sum is not \n",
    "                while num_3_index > j and num_sum < nums[num_3_index]:\n",
    "                    num_3_index -= 1\n",
    "\n",
    "                # when -(a + c) == c then append to result and added case for duplicacy\n",
    "                if num_sum == nums[num_3_index] and j != num_3_index:\n",
    "                    temp = [num_1, num_2, nums[num_3_index]]\n",
    "                    if temp not in result:\n",
    "                        result.append(temp)\n",
    "                j += 1\n",
    "        return result\n",
    "            \n",
    "        \n",
    "print(Solution().threeSum([-1, 0, 1, 2, -1, -4, 0, 0, -4, -1, -4, -4]))\n",
    "print(Solution().threeSum([-1, 0, 1]))\n",
    "print(Solution().threeSum([0,1,1]))\n",
    "print(Solution().threeSum([]))\n",
    "print(Solution().threeSum([0, 0, 0]))\n",
    "print(Solution().threeSum([0, 0, 0, 0]))\n",
    "print(Solution().threeSum([1,2,-2,-1]))\n",
    "print(Solution().threeSum([-4,-2,-2,-2,0,1,2,2,2,3,3,4,4,6,6]))       # Output [[-4,-2,6],[-4,0,4],[-4,1,3],[-4,2,2],[-2,-2,4],[-2,0,2]]"
   ]
  },
  {
   "cell_type": "markdown",
   "metadata": {},
   "source": [
    "**Method 3** Elegant solution of method 2"
   ]
  },
  {
   "cell_type": "code",
   "execution_count": 30,
   "metadata": {},
   "outputs": [
    {
     "name": "stdout",
     "output_type": "stream",
     "text": [
      "[-4, -4, -1, -1, 0, 0, 1, 2]\n",
      "[[0, 0, 0], [-1, -1, 2], [-1, 0, 1]]\n",
      "[-1, 0, 1]\n",
      "[[-1, 0, 1]]\n",
      "[0, 1, 1]\n",
      "[]\n",
      "[]\n",
      "[0, 0]\n",
      "[[0, 0, 0]]\n",
      "[0, 0]\n",
      "[[0, 0, 0]]\n",
      "[-2, -1, 1, 2]\n",
      "[]\n",
      "[-4, -2, -2, 0, 1, 2, 2, 3, 3, 4, 4, 6, 6]\n",
      "[[-4, -2, 6], [-4, 0, 4], [-4, 1, 3], [-4, 2, 2], [-2, -2, 4], [-2, 0, 2]]\n"
     ]
    }
   ],
   "source": [
    "def threeSum(self, nums):\n",
    "    res = []\n",
    "    nums.sort()\n",
    "    for i in range(len(nums)-2):\n",
    "        # to avoid duplicacy\n",
    "        if i > 0 and nums[i] == nums[i-1]:\n",
    "            continue\n",
    "        l, r = i+1, len(nums)-1\n",
    "        while l < r:\n",
    "            s = nums[i] + nums[l] + nums[r]\n",
    "            if s < 0:\n",
    "                l +=1 \n",
    "            elif s > 0:\n",
    "                r -= 1\n",
    "            else:\n",
    "                res.append((nums[i], nums[l], nums[r]))\n",
    "                # to avoid duplicacy\n",
    "                while l < r and nums[l] == nums[l+1]:\n",
    "                    l += 1\n",
    "                while l < r and nums[r] == nums[r-1]:\n",
    "                    r -= 1\n",
    "                # both are changed since for unique combination no 2 l and i will be same for a r\n",
    "                l += 1; r -= 1\n",
    "    return res\n",
    "\n",
    "print(Solution().threeSum([-1, 0, 1, 2, -1, -4, 0, 0, -4, -1, -4, -4]))\n",
    "print(Solution().threeSum([-1, 0, 1]))\n",
    "print(Solution().threeSum([0,1,1]))\n",
    "print(Solution().threeSum([]))\n",
    "print(Solution().threeSum([0, 0, 0]))\n",
    "print(Solution().threeSum([0, 0, 0, 0]))\n",
    "print(Solution().threeSum([1,2,-2,-1]))\n",
    "print(Solution().threeSum([-4,-2,-2,-2,0,1,2,2,2,3,3,4,4,6,6]))       # Output [[-4,-2,6],[-4,0,4],[-4,1,3],[-4,2,2],[-2,-2,4],[-2,0,2]]"
   ]
  },
  {
   "cell_type": "code",
   "execution_count": null,
   "metadata": {},
   "outputs": [],
   "source": []
  }
 ],
 "metadata": {
  "kernelspec": {
   "display_name": "Python 3",
   "language": "python",
   "name": "python3"
  },
  "language_info": {
   "codemirror_mode": {
    "name": "ipython",
    "version": 3
   },
   "file_extension": ".py",
   "mimetype": "text/x-python",
   "name": "python",
   "nbconvert_exporter": "python",
   "pygments_lexer": "ipython3",
   "version": "3.7.0"
  }
 },
 "nbformat": 4,
 "nbformat_minor": 2
}
