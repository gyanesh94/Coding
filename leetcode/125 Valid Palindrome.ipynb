{
 "cells": [
  {
   "cell_type": "markdown",
   "metadata": {},
   "source": [
    "[Question](https://leetcode.com/problems/valid-palindrome/)\n",
    "\n",
    "Given a string, determine if it is a palindrome, considering only alphanumeric characters and ignoring cases.\n",
    "\n",
    "Note: For the purpose of this problem, we define empty string as valid palindrome.\n",
    "\n",
    "Example 1:\n",
    "```\n",
    "Input: \"A man, a plan, a canal: Panama\"\n",
    "Output: true\n",
    "```\n",
    "Example 2:\n",
    "```\n",
    "Input: \"race a car\"\n",
    "Output: false\n",
    "```"
   ]
  },
  {
   "cell_type": "code",
   "execution_count": 8,
   "metadata": {},
   "outputs": [
    {
     "name": "stdout",
     "output_type": "stream",
     "text": [
      "True\n",
      "False\n",
      "True\n",
      "False\n"
     ]
    }
   ],
   "source": [
    "import re\n",
    "\n",
    "class Solution:\n",
    "    def isPalindrome(self, s: str) -> bool:\n",
    "        if not len(s):\n",
    "            return True\n",
    "        final = re.sub(r'[^a-zA-Z0-9]*', r'', s).lower()\n",
    "        rev_str = final[-1::-1]\n",
    "        return final == rev_str\n",
    "    \n",
    "print(Solution().isPalindrome(\"A man, a plan, a canal: Panama\"))\n",
    "print(Solution().isPalindrome(\"race a car\"))\n",
    "print(Solution().isPalindrome(\"\"))\n",
    "print(Solution().isPalindrome(\"0P\"))"
   ]
  },
  {
   "cell_type": "markdown",
   "metadata": {},
   "source": [
    "Extra's"
   ]
  },
  {
   "cell_type": "code",
   "execution_count": 9,
   "metadata": {},
   "outputs": [
    {
     "name": "stdout",
     "output_type": "stream",
     "text": [
      "True\n",
      "False\n",
      "True\n",
      "False\n"
     ]
    }
   ],
   "source": [
    "class Solution:\n",
    "    def isPalindrome(self, s):\n",
    "        l, r = 0, len(s)-1\n",
    "        while l < r:\n",
    "            while l < r and not s[l].isalnum():     # isalnum: The isalnum() method returns True if all characters in the string are alphanumeric (either alphabets or numbers). If not, it returns False\n",
    "                l += 1\n",
    "            while l <r and not s[r].isalnum():\n",
    "                r -= 1\n",
    "            if s[l].lower() != s[r].lower():\n",
    "                return False\n",
    "            l +=1; r -= 1\n",
    "        return True\n",
    "    \n",
    "print(Solution().isPalindrome(\"A man, a plan, a canal: Panama\"))\n",
    "print(Solution().isPalindrome(\"race a car\"))\n",
    "print(Solution().isPalindrome(\"\"))\n",
    "print(Solution().isPalindrome(\"0P\"))"
   ]
  },
  {
   "cell_type": "code",
   "execution_count": null,
   "metadata": {},
   "outputs": [],
   "source": []
  }
 ],
 "metadata": {
  "kernelspec": {
   "display_name": "Python 3",
   "language": "python",
   "name": "python3"
  },
  "language_info": {
   "codemirror_mode": {
    "name": "ipython",
    "version": 3
   },
   "file_extension": ".py",
   "mimetype": "text/x-python",
   "name": "python",
   "nbconvert_exporter": "python",
   "pygments_lexer": "ipython3",
   "version": "3.7.3"
  }
 },
 "nbformat": 4,
 "nbformat_minor": 2
}
