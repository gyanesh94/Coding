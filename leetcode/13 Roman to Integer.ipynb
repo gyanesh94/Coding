{
 "cells": [
  {
   "cell_type": "markdown",
   "metadata": {},
   "source": [
    "[Question](https://leetcode.com/problems/roman-to-integer/)"
   ]
  },
  {
   "cell_type": "code",
   "execution_count": null,
   "metadata": {},
   "outputs": [],
   "source": [
    "class Solution(object):\n",
    "    def romanToInt(self, s):\n",
    "        \"\"\"\n",
    "        :type s: str\n",
    "        :rtype: int\n",
    "        \"\"\"\n",
    "        symbolValueDict = {\n",
    "            'M' : 1000,\n",
    "            'D' : 500,\n",
    "            'C' : 100,\n",
    "            'L' : 50,\n",
    "            'X' : 10,\n",
    "            'V' : 5,\n",
    "            'I' : 1\n",
    "        }\n",
    "        symbolIndexDict = {\n",
    "            'M' : 7,\n",
    "            'D' : 6,\n",
    "            'C' : 5,\n",
    "            'L' : 4,\n",
    "            'X' : 3,\n",
    "            'V' : 2,\n",
    "            'I' : 1\n",
    "        }\n",
    "        symbolsList = list(s)\n",
    "        print symbolsList\n",
    "        totalSymbols = len(symbolsList)\n",
    "        result = 0\n",
    "        i = 0\n",
    "        while i < totalSymbols:\n",
    "            currentSymbol = symbolsList[i]\n",
    "            if i + 1 != totalSymbols and symbolIndexDict[currentSymbol] < symbolIndexDict[symbolsList[(i + 1)]]:\n",
    "                result += symbolValueDict[symbolsList[(i + 1)]] - symbolValueDict[currentSymbol]\n",
    "                i += 2\n",
    "                continue\n",
    "            result += symbolValueDict[currentSymbol]\n",
    "            i += 1\n",
    "        return result"
   ]
  }
 ],
 "metadata": {
  "kernelspec": {
   "display_name": "Python 3",
   "language": "python",
   "name": "python3"
  },
  "language_info": {
   "codemirror_mode": {
    "name": "ipython",
    "version": 3
   },
   "file_extension": ".py",
   "mimetype": "text/x-python",
   "name": "python",
   "nbconvert_exporter": "python",
   "pygments_lexer": "ipython3",
   "version": "3.7.0"
  }
 },
 "nbformat": 4,
 "nbformat_minor": 2
}
