{
 "cells": [
  {
   "cell_type": "markdown",
   "metadata": {},
   "source": [
    "[Question](https://leetcode.com/problems/minimum-depth-of-binary-tree/)"
   ]
  },
  {
   "cell_type": "code",
   "execution_count": 20,
   "metadata": {},
   "outputs": [],
   "source": [
    "from common_code.TreeNode import TreeNode\n",
    "from common_code.list_to_tree_conversion import convertListToTreeNode\n",
    "import collections"
   ]
  },
  {
   "cell_type": "code",
   "execution_count": 17,
   "metadata": {},
   "outputs": [
    {
     "name": "stdout",
     "output_type": "stream",
     "text": [
      "2\n",
      "2\n",
      "2\n",
      "3\n",
      "2\n"
     ]
    }
   ],
   "source": [
    "# Definition for a binary tree node.\n",
    "# class TreeNode:\n",
    "#     def __init__(self, x):\n",
    "#         self.val = x\n",
    "#         self.left = None\n",
    "#         self.right = None\n",
    "\n",
    "class Solution:    \n",
    "    def minDepth(self, root: TreeNode) -> int:\n",
    "        if not root:\n",
    "            return 0\n",
    "        left_depth = self.minDepth(root.left) + 1\n",
    "        right_depth = self.minDepth(root.right) + 1\n",
    "        \n",
    "        # When no Right child we need to consider left child for depth\n",
    "        if not root.right:\n",
    "            return left_depth\n",
    "        \n",
    "        # When no left child we need to consider right child for depth\n",
    "        if not root.left:\n",
    "            return right_depth\n",
    "        \n",
    "        return min(left_depth, right_depth)\n",
    "\n",
    "print(Solution().minDepth(convertListToTreeNode([3,9,20,None,None,15,7])))\n",
    "print(Solution().minDepth(convertListToTreeNode([1,2,2,3,3,None,None,4,4])))\n",
    "print(Solution().minDepth(convertListToTreeNode([3,9,20,None,None,15,7])))\n",
    "print(Solution().minDepth(convertListToTreeNode([1,2,None,3])))\n",
    "print(Solution().minDepth(convertListToTreeNode([1,None,2])))"
   ]
  },
  {
   "cell_type": "markdown",
   "metadata": {},
   "source": [
    "**Method 2**: Elegant method for above in DFS"
   ]
  },
  {
   "cell_type": "code",
   "execution_count": 18,
   "metadata": {},
   "outputs": [
    {
     "name": "stdout",
     "output_type": "stream",
     "text": [
      "2\n",
      "2\n",
      "2\n",
      "3\n",
      "2\n"
     ]
    }
   ],
   "source": [
    "# DFS\n",
    "class Solution:    \n",
    "    def minDepth(self, root: TreeNode) -> int:\n",
    "        if not root:\n",
    "            return 0\n",
    "        if None in [root.left, root.right]:\n",
    "            return max(self.minDepth(root.left), self.minDepth(root.right)) + 1\n",
    "        else:\n",
    "            return min(self.minDepth(root.left), self.minDepth(root.right)) + 1\n",
    "\n",
    "print(Solution().minDepth(convertListToTreeNode([3,9,20,None,None,15,7])))\n",
    "print(Solution().minDepth(convertListToTreeNode([1,2,2,3,3,None,None,4,4])))\n",
    "print(Solution().minDepth(convertListToTreeNode([3,9,20,None,None,15,7])))\n",
    "print(Solution().minDepth(convertListToTreeNode([1,2,None,3])))\n",
    "print(Solution().minDepth(convertListToTreeNode([1,None,2])))"
   ]
  },
  {
   "cell_type": "markdown",
   "metadata": {},
   "source": [
    "**Method 3**: Using BFS (Might be fast as BSF first leaf node will always be minimum depth)"
   ]
  },
  {
   "cell_type": "code",
   "execution_count": 21,
   "metadata": {},
   "outputs": [
    {
     "name": "stdout",
     "output_type": "stream",
     "text": [
      "2\n",
      "2\n",
      "2\n",
      "3\n",
      "2\n"
     ]
    }
   ],
   "source": [
    "# BFS   \n",
    "class Solution:    \n",
    "    def minDepth(self, root: TreeNode) -> int:\n",
    "        if not root:\n",
    "            return 0\n",
    "        queue = collections.deque([(root, 1)])\n",
    "        while queue:\n",
    "            node, level = queue.popleft()\n",
    "            if node:\n",
    "                if not node.left and not node.right:\n",
    "                    return level\n",
    "                else:\n",
    "                    queue.append((node.left, level+1))\n",
    "                    queue.append((node.right, level+1))\n",
    "\n",
    "print(Solution().minDepth(convertListToTreeNode([3,9,20,None,None,15,7])))\n",
    "print(Solution().minDepth(convertListToTreeNode([1,2,2,3,3,None,None,4,4])))\n",
    "print(Solution().minDepth(convertListToTreeNode([3,9,20,None,None,15,7])))\n",
    "print(Solution().minDepth(convertListToTreeNode([1,2,None,3])))\n",
    "print(Solution().minDepth(convertListToTreeNode([1,None,2])))"
   ]
  },
  {
   "cell_type": "code",
   "execution_count": null,
   "metadata": {},
   "outputs": [],
   "source": []
  }
 ],
 "metadata": {
  "kernelspec": {
   "display_name": "Python 3",
   "language": "python",
   "name": "python3"
  },
  "language_info": {
   "codemirror_mode": {
    "name": "ipython",
    "version": 3
   },
   "file_extension": ".py",
   "mimetype": "text/x-python",
   "name": "python",
   "nbconvert_exporter": "python",
   "pygments_lexer": "ipython3",
   "version": "3.7.0"
  }
 },
 "nbformat": 4,
 "nbformat_minor": 2
}
