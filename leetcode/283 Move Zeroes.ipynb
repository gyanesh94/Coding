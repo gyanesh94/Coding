{
 "cells": [
  {
   "cell_type": "markdown",
   "metadata": {},
   "source": [
    "[Question](https://leetcode.com/problems/move-zeroes/)\n",
    "\n",
    "Given an array `nums`, write a function to move all `0`'s to the end of it while maintaining the relative order of the non-zero elements.\n",
    "\n",
    "**Example:**\n",
    "\n",
    "```\n",
    "Input: [0,1,0,3,12]\n",
    "Output: [1,3,12,0,0]\n",
    "```\n",
    "\n",
    "**Note**:\n",
    "\n",
    "1. You must do this **in-place** without making a copy of the array.\n",
    "2. Minimize the total number of operations."
   ]
  },
  {
   "cell_type": "code",
   "execution_count": 1,
   "metadata": {},
   "outputs": [],
   "source": [
    "from typing import List\n",
    "import unittest"
   ]
  },
  {
   "cell_type": "code",
   "execution_count": null,
   "metadata": {},
   "outputs": [],
   "source": [
    "class Solution:\n",
    "    def moveZeroes(self, nums: List[int]) -> None:\n",
    "        \"\"\"\n",
    "        Do not return anything, modify nums in-place instead.\n",
    "        \"\"\"\n",
    "        index = 0\n",
    "        len_nums = len(nums)\n",
    "        while index < len_nums:\n",
    "            if nums[index] == 0:\n",
    "                del nums[index]\n",
    "                nums.append(0)\n",
    "                len_nums -= 1\n",
    "            else:\n",
    "                index += 1\n",
    "                "
   ]
  },
  {
   "cell_type": "markdown",
   "metadata": {},
   "source": [
    "Extra's"
   ]
  },
  {
   "cell_type": "markdown",
   "metadata": {},
   "source": [
    "We initialize two pointers `i = 0`, `j = 0`. Iterate `j` over `range(len(nums))`, and if `nums[j] != 0`, we swap `nums[i]` and `nums[j]`, and increment `i` by `1`. It is easy to see the loop invariant that `nums[:i+1]` contains all nonzero elements in `nums[:j+1]` with relative order preserved. Hence when `j` reaches `len(nums)-1`, `nums[:i+1]`contains all nonzero elements in `nums` with relative order preserved.\n",
    "\n",
    "\n",
    "\n",
    "Time complexity: `O(n)`, space complexity: `O(1)`."
   ]
  },
  {
   "cell_type": "code",
   "execution_count": null,
   "metadata": {},
   "outputs": [],
   "source": [
    "class Solution(object):\n",
    "    def moveZeroes(self, nums):\n",
    "        \"\"\"\n",
    "        :type nums: List[int]\n",
    "        :rtype: void Do not return anything, modify nums in-place instead.\n",
    "        \"\"\"\n",
    "        i = 0\n",
    "        for j in range(len(nums)):\n",
    "            if nums[j] != 0:\n",
    "                nums[i], nums[j] = nums[j], nums[i]\n",
    "                i += 1\n"
   ]
  },
  {
   "cell_type": "markdown",
   "metadata": {},
   "source": [
    "Solution 1: traverse and swap last 0 and last non "
   ]
  },
  {
   "cell_type": "code",
   "execution_count": null,
   "metadata": {},
   "outputs": [],
   "source": [
    "class Solution(object):\n",
    "    def moveZeroes(self, nums):\n",
    "        \"\"\"\n",
    "        :type nums: List[int]\n",
    "        :rtype: void Do not return anything, modify nums in-place instead.\n",
    "        \"\"\"\n",
    "        last0 = 0\n",
    "        for i in range(0,len(nums)):\n",
    "            if (nums[i]!=0):\n",
    "                nums[i],nums[last0] = nums[last0],nums[i]\n",
    "                last0+=1\n"
   ]
  },
  {
   "cell_type": "markdown",
   "metadata": {},
   "source": [
    "Solution 2 : one-liner from @toontong: use sort() with customized compare function"
   ]
  },
  {
   "cell_type": "code",
   "execution_count": null,
   "metadata": {},
   "outputs": [],
   "source": [
    "class Solution(object):\n",
    "    def moveZeroes(self, nums):\n",
    "        \"\"\"\n",
    "        :type nums: List[int]\n",
    "        :rtype: void Do not return anything, modify nums in-place instead.\n",
    "        \"\"\"\n",
    "        nums.sort(cmp=lambda a,b: 0 if b else -1)\n"
   ]
  }
 ],
 "metadata": {
  "kernelspec": {
   "display_name": "Python 3",
   "language": "python",
   "name": "python3"
  },
  "language_info": {
   "codemirror_mode": {
    "name": "ipython",
    "version": 3
   },
   "file_extension": ".py",
   "mimetype": "text/x-python",
   "name": "python",
   "nbconvert_exporter": "python",
   "pygments_lexer": "ipython3",
   "version": "3.7.3"
  }
 },
 "nbformat": 4,
 "nbformat_minor": 2
}
