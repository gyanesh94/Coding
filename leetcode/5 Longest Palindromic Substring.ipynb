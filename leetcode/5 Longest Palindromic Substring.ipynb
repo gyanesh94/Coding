{
 "cells": [
  {
   "cell_type": "markdown",
   "metadata": {},
   "source": [
    "[Question](https://leetcode.com/problems/longest-palindromic-substring/description/)\n",
    "\n",
    "Given a string s, find the longest palindromic substring in s. You may assume that the maximum length of s is 1000.\n",
    "\n",
    "Example 1:\n",
    "```\n",
    "Input: \"babad\"\n",
    "Output: \"bab\"\n",
    "Note: \"aba\" is also a valid answer.\n",
    "```\n",
    "\n",
    "Example 2:\n",
    "```\n",
    "Input: \"cbbd\"\n",
    "Output: \"bb\"\n",
    "```"
   ]
  },
  {
   "cell_type": "code",
   "execution_count": 37,
   "metadata": {},
   "outputs": [
    {
     "name": "stdout",
     "output_type": "stream",
     "text": [
      "bab\n",
      "bb\n",
      "a\n",
      "adada\n",
      "ccc\n"
     ]
    }
   ],
   "source": [
    "class Solution:\n",
    "    def longestPalindrome(self, s: 'str') -> 'str':\n",
    "        len_str = len(s)\n",
    "        if len_str == 0:\n",
    "            return \"\"\n",
    "        mem = [-1] * len_str\n",
    "        for i in range(len_str):\n",
    "            mem[i] = [False] * len_str\n",
    "            mem[i][i] = True\n",
    "        \n",
    "        max_length = 1\n",
    "        for l in range(2, len_str + 1):\n",
    "            for start in range(0, len_str - l + 1):\n",
    "                end = start + l - 1\n",
    "                if s[end] == s[start]:\n",
    "                    if start + 1 > end - 1:\n",
    "                        mem[start][end] = True\n",
    "                        if max_length < l:\n",
    "                            max_length = l\n",
    "                    elif mem[start + 1][end - 1]:\n",
    "                        mem[start][end] = True\n",
    "                        if max_length < l:\n",
    "                            max_length = l\n",
    "        \n",
    "#         for i in range(len_str):\n",
    "#             for j in range(len_str):\n",
    "#                 print(mem[i][j], sep=\"\", end=\"\\t\")\n",
    "#             print()\n",
    "        \n",
    "#         print(max_length)\n",
    "        for i in range(0, len_str - max_length + 1):\n",
    "            if mem[i][i + max_length - 1]:\n",
    "                return s[i:i + max_length]\n",
    "        \n",
    "\n",
    "print(Solution().longestPalindrome(\"babad\"))\n",
    "print(Solution().longestPalindrome(\"cbbd\"))\n",
    "print(Solution().longestPalindrome(\"ac\"))\n",
    "print(Solution().longestPalindrome(\"abadada\"))\n",
    "print(Solution().longestPalindrome(\"ccc\"))"
   ]
  },
  {
   "cell_type": "code",
   "execution_count": 40,
   "metadata": {},
   "outputs": [
    {
     "name": "stdout",
     "output_type": "stream",
     "text": [
      "a\n",
      "\n",
      "c\n",
      "\n",
      "s\n",
      "\n",
      "a\n",
      "\n",
      "q\n",
      "\n",
      "w\n",
      "\n",
      "a\n"
     ]
    }
   ],
   "source": [
    "class Solution:\n",
    "    def longestPalindrome(self, s):\n",
    "        res = \"\"\n",
    "        for i in range(len(s)):\n",
    "            # odd case, like \"aba\"\n",
    "            tmp = self.helper(s, i, i)\n",
    "            if len(tmp) > len(res):\n",
    "                res = tmp\n",
    "            # even case, like \"abba\"\n",
    "            tmp = self.helper(s, i, i+1)\n",
    "            if len(tmp) > len(res):\n",
    "                res = tmp\n",
    "        return res\n",
    "\n",
    "    # get the longest palindrome, l, r are the middle indexes   \n",
    "    # from inner to outer\n",
    "    def helper(self, s, l, r):\n",
    "        while l >= 0 and r < len(s) and s[l] == s[r]:\n",
    "            l -= 1; r += 1\n",
    "        return s[l+1:r]\n",
    "\n",
    "# print(Solution().longestPalindrome(\"babad\"))\n",
    "# print(Solution().longestPalindrome(\"cbbd\"))\n",
    "# print(Solution().longestPalindrome(\"ac\"))\n",
    "print(Solution().longestPalindrome(\"acsaqw\"))\n",
    "# print(Solution().longestPalindrome(\"abadada\"))\n",
    "# print(Solution().longestPalindrome(\"ccc\"))"
   ]
  },
  {
   "cell_type": "code",
   "execution_count": null,
   "metadata": {},
   "outputs": [],
   "source": []
  }
 ],
 "metadata": {
  "kernelspec": {
   "display_name": "Python 3",
   "language": "python",
   "name": "python3"
  },
  "language_info": {
   "codemirror_mode": {
    "name": "ipython",
    "version": 3
   },
   "file_extension": ".py",
   "mimetype": "text/x-python",
   "name": "python",
   "nbconvert_exporter": "python",
   "pygments_lexer": "ipython3",
   "version": "3.7.0"
  }
 },
 "nbformat": 4,
 "nbformat_minor": 2
}
