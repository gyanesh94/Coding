{
 "cells": [
  {
   "cell_type": "markdown",
   "metadata": {},
   "source": [
    "[Question](https://leetcode.com/problems/populating-next-right-pointers-in-each-node-ii/description/)\n",
    "\n",
    "Given a binary tree\n",
    "\n",
    "struct TreeLinkNode {\n",
    "  TreeLinkNode *left;\n",
    "  TreeLinkNode *right;\n",
    "  TreeLinkNode *next;\n",
    "}\n",
    "Populate each next pointer to point to its next right node. If there is no next right node, the next pointer should be set to NULL.\n",
    "\n",
    "Initially, all next pointers are set to NULL.\n",
    "\n",
    "Note:\n",
    "\n",
    "- You may only use constant extra space.\n",
    "- Recursive approach is fine, implicit stack space does not count as extra space for this problem.\n",
    "Example:\n",
    "\n",
    "Given the following binary tree,\n",
    "```\n",
    "     1\n",
    "   /  \\\n",
    "  2    3\n",
    " / \\    \\\n",
    "4   5    7\n",
    "```\n",
    "\n",
    "After calling your function, the tree should look like:\n",
    "```\n",
    "     1 -> NULL\n",
    "   /  \\\n",
    "  2 -> 3 -> NULL\n",
    " / \\    \\\n",
    "4-> 5 -> 7 -> NULL\n",
    "```"
   ]
  },
  {
   "cell_type": "code",
   "execution_count": 1,
   "metadata": {},
   "outputs": [],
   "source": [
    "from common_code.list_to_tree_link_conversion import convertListToTreeLinkNode"
   ]
  },
  {
   "cell_type": "markdown",
   "metadata": {},
   "source": [
    "#### Level Order Traversal"
   ]
  },
  {
   "cell_type": "code",
   "execution_count": 2,
   "metadata": {},
   "outputs": [],
   "source": [
    "# Definition for binary tree with next pointer.\n",
    "class TreeLinkNode:\n",
    "    def __init__(self, x):\n",
    "        self.val = x\n",
    "        self.left = None\n",
    "        self.right = None\n",
    "        self.next = None\n",
    "\n",
    "\n",
    "class Solution:\n",
    "    # @param root, a tree link node\n",
    "    # @return nothing\n",
    "    def connect(self, root):\n",
    "        if root is None:\n",
    "            return\n",
    "        queue = []\n",
    "        queue.append((root, 0))\n",
    "        previous_depth = -1\n",
    "        previous_node = None\n",
    "        while queue:\n",
    "            root, depth = queue.pop(0)\n",
    "            if not root:\n",
    "                continue\n",
    "            if previous_depth == depth:\n",
    "                previous_node.next = root\n",
    "                previous_node = root\n",
    "            else:\n",
    "                previous_node = root\n",
    "                previous_depth = depth\n",
    "            queue.append((root.left, depth + 1))\n",
    "            queue.append((root.right, depth + 1))\n"
   ]
  },
  {
   "cell_type": "markdown",
   "metadata": {},
   "source": [
    "#### Recursive Call\n",
    "\n",
    "Preorder Traversal, with Right tree completed first to get end links properly"
   ]
  },
  {
   "cell_type": "code",
   "execution_count": null,
   "metadata": {},
   "outputs": [],
   "source": [
    "# Definition for binary tree with next pointer.\n",
    "# class TreeLinkNode:\n",
    "#     def __init__(self, x):\n",
    "#         self.val = x\n",
    "#         self.left = None\n",
    "#         self.right = None\n",
    "#         self.next = None\n",
    "\n",
    "class Solution:\n",
    "    # @param root, a tree link node\n",
    "    # @return nothing\n",
    "    def connect(self, root):\n",
    "        if not root:\n",
    "            return\n",
    "        self.connect_preorder_traversal(root, None, False)\n",
    "\n",
    "    def connect_preorder_traversal(self, root, parent, is_left):\n",
    "        if not root:\n",
    "            return\n",
    "        print \"root: {}\".format(root.val)\n",
    "        if parent:\n",
    "            print \"parent: {}\".format(parent.val)\n",
    "        print \"is_left: {}\".format(is_left)\n",
    "        if parent:\n",
    "            if is_left:\n",
    "                if parent.right:\n",
    "                    root.next = parent.right\n",
    "                else:\n",
    "                    root.next = self.find_next_node(parent.next)\n",
    "            else:\n",
    "                root.next = self.find_next_node(parent.next)\n",
    "        self.connect_preorder_traversal(root.right, root, False)\n",
    "        self.connect_preorder_traversal(root.left, root, True)\n",
    "\n",
    "    def find_next_node(self, root):\n",
    "        if not root:\n",
    "            return None\n",
    "        if root.left:\n",
    "            return root.left\n",
    "        if root.right:\n",
    "            return root.right\n",
    "        return self.find_next_node(root.next)"
   ]
  },
  {
   "cell_type": "markdown",
   "metadata": {},
   "source": [
    "#### Other Solution"
   ]
  },
  {
   "cell_type": "markdown",
   "metadata": {},
   "source": [
    "level by level traversal with a dummy head prekid. \n",
    "\n",
    "root is in the current level, and kid is in the next level. prekid.next is the head in the kid level\n",
    "\n",
    "kid = kid.next or kid : Update kid ONLY when we actually find its next node\n",
    "\n",
    "if kid.next:\n",
    "    kid = kid.next\n",
    "else:\n",
    "    kid = kid"
   ]
  },
  {
   "cell_type": "code",
   "execution_count": null,
   "metadata": {},
   "outputs": [],
   "source": [
    "# Definition for binary tree with next pointer.\n",
    "# class TreeLinkNode:\n",
    "#     def __init__(self, x):\n",
    "#         self.val = x\n",
    "#         self.left = None\n",
    "#         self.right = None\n",
    "#         self.next = None\n",
    "\n",
    "class Solution:\n",
    "    # @param root, a tree link node\n",
    "    # @return nothing\n",
    "    def connect(self, root):\n",
    "        prekid = kid = TreeLinkNode(0)\n",
    "        while root:\n",
    "            while root:\n",
    "                kid.next = root.left\n",
    "                kid = kid.next or kid\n",
    "                kid.next = root.right\n",
    "                kid = kid.next or kid\n",
    "                root = root.next\n",
    "            root, kid = prekid.next, prekid"
   ]
  }
 ],
 "metadata": {
  "kernelspec": {
   "display_name": "Python 2",
   "language": "python",
   "name": "python2"
  },
  "language_info": {
   "codemirror_mode": {
    "name": "ipython",
    "version": 2
   },
   "file_extension": ".py",
   "mimetype": "text/x-python",
   "name": "python",
   "nbconvert_exporter": "python",
   "pygments_lexer": "ipython2",
   "version": "2.7.14"
  }
 },
 "nbformat": 4,
 "nbformat_minor": 2
}
