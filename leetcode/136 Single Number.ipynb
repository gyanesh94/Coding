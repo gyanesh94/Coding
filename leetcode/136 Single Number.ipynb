{
 "cells": [
  {
   "cell_type": "markdown",
   "metadata": {},
   "source": [
    "[Question](https://leetcode.com/problems/single-number/)\n",
    "\n",
    "Given a non-empty array of integers, every element appears twice except for one. Find that single one.\n",
    "\n",
    "Note:\n",
    "\n",
    "Your algorithm should have a linear runtime complexity. Could you implement it without using extra memory?\n",
    "\n",
    "Example 1:\n",
    "```\n",
    "Input: [2,2,1]\n",
    "Output: 1\n",
    "```\n",
    "Example 2:\n",
    "```\n",
    "Input: [4,1,2,1,2]\n",
    "Output: 4\n",
    "```"
   ]
  },
  {
   "cell_type": "code",
   "execution_count": 2,
   "metadata": {},
   "outputs": [
    {
     "name": "stdout",
     "output_type": "stream",
     "text": [
      "1\n",
      "4\n",
      "4\n"
     ]
    }
   ],
   "source": [
    "from typing import List\n",
    "\n",
    "class Solution:\n",
    "    def singleNumber(self, nums: List[int]) -> int:\n",
    "        result = 0\n",
    "        for i in nums:\n",
    "            result ^= i\n",
    "        return result\n",
    "\n",
    "print(Solution().singleNumber([2,2,1]))\n",
    "print(Solution().singleNumber([4,1,2,1,2]))\n",
    "print(Solution().singleNumber([4]))"
   ]
  },
  {
   "cell_type": "markdown",
   "metadata": {},
   "source": [
    "Extra's"
   ]
  },
  {
   "cell_type": "code",
   "execution_count": 4,
   "metadata": {},
   "outputs": [
    {
     "name": "stdout",
     "output_type": "stream",
     "text": [
      "1\n",
      "4\n",
      "4\n"
     ]
    }
   ],
   "source": [
    "from typing import List\n",
    "from functools import reduce\n",
    "\n",
    "class Solution:\n",
    "    def singleNumber(self, nums: List[int]) -> int:\n",
    "        return reduce(lambda x, y: x ^ y, nums)\n",
    "\n",
    "print(Solution().singleNumber([2,2,1]))\n",
    "print(Solution().singleNumber([4,1,2,1,2]))\n",
    "print(Solution().singleNumber([4]))"
   ]
  },
  {
   "cell_type": "code",
   "execution_count": 5,
   "metadata": {},
   "outputs": [
    {
     "name": "stdout",
     "output_type": "stream",
     "text": [
      "1\n",
      "4\n",
      "4\n"
     ]
    }
   ],
   "source": [
    "from typing import List\n",
    "\n",
    "class Solution:\n",
    "    def singleNumber(self, nums: List[int]) -> int:\n",
    "        return 2*sum(set(nums))-sum(nums)\n",
    "\n",
    "print(Solution().singleNumber([2,2,1]))\n",
    "print(Solution().singleNumber([4,1,2,1,2]))\n",
    "print(Solution().singleNumber([4]))"
   ]
  },
  {
   "cell_type": "code",
   "execution_count": 7,
   "metadata": {},
   "outputs": [
    {
     "name": "stdout",
     "output_type": "stream",
     "text": [
      "1\n",
      "4\n",
      "4\n"
     ]
    }
   ],
   "source": [
    "from typing import List\n",
    "from functools import reduce\n",
    "import operator\n",
    "\n",
    "class Solution:\n",
    "    def singleNumber(self, nums: List[int]) -> int:\n",
    "        return reduce(operator.xor, nums)\n",
    "\n",
    "print(Solution().singleNumber([2,2,1]))\n",
    "print(Solution().singleNumber([4,1,2,1,2]))\n",
    "print(Solution().singleNumber([4]))"
   ]
  },
  {
   "cell_type": "code",
   "execution_count": 8,
   "metadata": {},
   "outputs": [
    {
     "name": "stdout",
     "output_type": "stream",
     "text": [
      "1\n",
      "4\n",
      "4\n"
     ]
    }
   ],
   "source": [
    "from typing import List\n",
    "\n",
    "class Solution:\n",
    "    def singleNumber(self, nums: List[int]) -> int:\n",
    "        dic = {}\n",
    "        for num in nums:\n",
    "            dic[num] = dic.get(num, 0)+1\n",
    "        for key, val in dic.items():\n",
    "            if val == 1:\n",
    "                return key\n",
    "\n",
    "print(Solution().singleNumber([2,2,1]))\n",
    "print(Solution().singleNumber([4,1,2,1,2]))\n",
    "print(Solution().singleNumber([4]))"
   ]
  },
  {
   "cell_type": "code",
   "execution_count": null,
   "metadata": {},
   "outputs": [],
   "source": []
  }
 ],
 "metadata": {
  "kernelspec": {
   "display_name": "Python 3",
   "language": "python",
   "name": "python3"
  },
  "language_info": {
   "codemirror_mode": {
    "name": "ipython",
    "version": 3
   },
   "file_extension": ".py",
   "mimetype": "text/x-python",
   "name": "python",
   "nbconvert_exporter": "python",
   "pygments_lexer": "ipython3",
   "version": "3.7.3"
  }
 },
 "nbformat": 4,
 "nbformat_minor": 2
}
