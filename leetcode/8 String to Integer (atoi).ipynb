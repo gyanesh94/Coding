{
 "cells": [
  {
   "cell_type": "markdown",
   "metadata": {},
   "source": [
    "[Question](https://leetcode.com/problems/string-to-integer-atoi/)"
   ]
  },
  {
   "cell_type": "code",
   "execution_count": 31,
   "metadata": {},
   "outputs": [
    {
     "name": "stdout",
     "output_type": "stream",
     "text": [
      "-42\n",
      "4193\n",
      "0\n",
      "-2147483648\n",
      "2147483647\n"
     ]
    }
   ],
   "source": [
    "import re\n",
    "class Solution:\n",
    "    def myAtoi(self, str: 'str') -> 'int':\n",
    "        str = str.strip()\n",
    "        if len(str) == 0:\n",
    "            return 0\n",
    "        match = re.match(r'^([-+]?\\d+)', str)\n",
    "        if match is None:\n",
    "            return 0\n",
    "        n = int(str[match.start():match.end()])\n",
    "        \n",
    "        if n > 0:\n",
    "            n = min(n, (2 ** 31) - 1)\n",
    "        else:\n",
    "            n = max(n, -(2 ** 31))\n",
    "        \n",
    "        return n\n",
    "\n",
    "        \n",
    "print(Solution().myAtoi(\"   -42\"))\n",
    "print(Solution().myAtoi(\"4193 with words\"))    # Output 4193\n",
    "print(Solution().myAtoi(\"words and 987\"))      # Output 0\n",
    "print(Solution().myAtoi(\"-91283472332\"))       # Output -2147483648\n",
    "print(Solution().myAtoi(\"2147483648\"))         # Output -2147483647"
   ]
  },
  {
   "cell_type": "code",
   "execution_count": null,
   "metadata": {},
   "outputs": [],
   "source": []
  }
 ],
 "metadata": {
  "kernelspec": {
   "display_name": "Python 3",
   "language": "python",
   "name": "python3"
  },
  "language_info": {
   "codemirror_mode": {
    "name": "ipython",
    "version": 3
   },
   "file_extension": ".py",
   "mimetype": "text/x-python",
   "name": "python",
   "nbconvert_exporter": "python",
   "pygments_lexer": "ipython3",
   "version": "3.7.0"
  }
 },
 "nbformat": 4,
 "nbformat_minor": 2
}
