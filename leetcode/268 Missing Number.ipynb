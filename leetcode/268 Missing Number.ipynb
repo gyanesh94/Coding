{
 "cells": [
  {
   "cell_type": "markdown",
   "metadata": {},
   "source": [
    "[Question](https://leetcode.com/problems/missing-number/)\n",
    "\n",
    "Given an array containing *n* distinct numbers taken from `0, 1, 2, ..., n`, find the one that is missing from the array.\n",
    "\n",
    "**Example 1:**\n",
    "\n",
    "```\n",
    "Input: [3,0,1]\n",
    "Output: 2\n",
    "```\n",
    "\n",
    "**Example 2:**\n",
    "\n",
    "```\n",
    "Input: [9,6,4,2,3,5,7,0,1]\n",
    "Output: 8\n",
    "```\n",
    "\n",
    "**Note**:\n",
    "Your algorithm should run in linear runtime complexity. Could you implement it using only constant extra space complexity?"
   ]
  },
  {
   "cell_type": "code",
   "execution_count": 1,
   "metadata": {},
   "outputs": [],
   "source": [
    "from typing import List\n",
    "import unittest"
   ]
  },
  {
   "cell_type": "code",
   "execution_count": null,
   "metadata": {},
   "outputs": [],
   "source": [
    "class Solution:\n",
    "    def missingNumber(self, nums: List[int]) -> int:\n",
    "        l = len(nums)\n",
    "        total = int((l * (l + 1)) / 2)\n",
    "        return total - sum(nums)"
   ]
  },
  {
   "cell_type": "markdown",
   "metadata": {},
   "source": [
    "Extra's"
   ]
  },
  {
   "cell_type": "code",
   "execution_count": null,
   "metadata": {},
   "outputs": [],
   "source": [
    "def missingNumber1(self, nums):\n",
    "    res = 0\n",
    "    for i in xrange(len(nums)+1):\n",
    "        res ^= i\n",
    "    for num in nums:\n",
    "        res ^= num\n",
    "    return res"
   ]
  }
 ],
 "metadata": {
  "kernelspec": {
   "display_name": "Python 3",
   "language": "python",
   "name": "python3"
  },
  "language_info": {
   "codemirror_mode": {
    "name": "ipython",
    "version": 3
   },
   "file_extension": ".py",
   "mimetype": "text/x-python",
   "name": "python",
   "nbconvert_exporter": "python",
   "pygments_lexer": "ipython3",
   "version": "3.7.3"
  }
 },
 "nbformat": 4,
 "nbformat_minor": 2
}
