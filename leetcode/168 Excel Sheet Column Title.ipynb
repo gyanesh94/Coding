{
 "cells": [
  {
   "cell_type": "markdown",
   "metadata": {},
   "source": [
    "[Question](https://leetcode.com/problems/excel-sheet-column-title/)\n",
    "\n",
    "Given a positive integer, return its corresponding column title as appear in an Excel sheet.\n",
    "\n",
    "For example:\n",
    "\n",
    "```\n",
    "    1 -> A\n",
    "    2 -> B\n",
    "    3 -> C\n",
    "    ...\n",
    "    26 -> Z\n",
    "    27 -> AA\n",
    "    28 -> AB \n",
    "    ...\n",
    "```\n",
    "\n",
    "**Example 1:**\n",
    "\n",
    "```\n",
    "Input: 1\n",
    "Output: \"A\"\n",
    "```\n",
    "\n",
    "**Example 2:**\n",
    "\n",
    "```\n",
    "Input: 28\n",
    "Output: \"AB\"\n",
    "```"
   ]
  },
  {
   "cell_type": "markdown",
   "metadata": {},
   "source": [
    "Let's see the relationship between the Excel sheet column title and the number:\n",
    "\n",
    "A   1     AA    26+ 1     BA  2×26+ 1     ...     ZA  26×26+ 1     AAA  1×26²+1×26+ 1\n",
    "B   2     AB    26+ 2     BB  2×26+ 2     ...     ZB  26×26+ 2     AAB  1×26²+1×26+ 2\n",
    ".   .     ..    .....     ..  .......     ...     ..  ........     ...  .............   \n",
    ".   .     ..    .....     ..  .......     ...     ..  ........     ...  .............\n",
    ".   .     ..    .....     ..  .......     ...     ..  ........     ...  .............\n",
    "Z  26     AZ    26+26     BZ  2×26+26     ...     ZZ  26×26+26     AAZ  1×26²+1×26+26\n",
    "Now we can see that ABCD＝A×26³＋B×26²＋C×26¹＋D＝1×26³＋2×26²＋3×26¹＋4\n",
    "\n",
    "But how to get the column title from the number? We can't simply use the n%26 method because:\n",
    "\n",
    "ZZZZ＝Z×26³＋Z×26²＋Z×26¹＋Z＝26×26³＋26×26²＋26×26¹＋26\n",
    "\n",
    "We can use (n-1)%26 instead, then we get a number range from 0 to 25."
   ]
  },
  {
   "cell_type": "code",
   "execution_count": 1,
   "metadata": {},
   "outputs": [],
   "source": [
    "from typing import List\n",
    "import unittest"
   ]
  },
  {
   "cell_type": "code",
   "execution_count": null,
   "metadata": {},
   "outputs": [],
   "source": [
    "class Solution:  \n",
    "    def convertToTitle(self, n: int) -> str:\n",
    "        if n <= 26:\n",
    "            return chr(64 + n)\n",
    "        if n % 26:\n",
    "            return self.convertToTitle(int(n / 26)) + chr(64 + n % 26)\n",
    "        else:\n",
    "            return self.convertToTitle(int(n / 26) - 1) + 'Z'"
   ]
  },
  {
   "cell_type": "markdown",
   "metadata": {},
   "source": [
    "Extra's"
   ]
  },
  {
   "cell_type": "code",
   "execution_count": null,
   "metadata": {},
   "outputs": [],
   "source": [
    "return \"\" if num == 0 else self.convertToTitle((num - 1) / 26) + chr((num - 1) % 26 + ord('A'))\n"
   ]
  },
  {
   "cell_type": "code",
   "execution_count": null,
   "metadata": {},
   "outputs": [],
   "source": [
    "def convertToTitle(self, n):\n",
    "    r = ''\n",
    "    while(n>0):\n",
    "        n -= 1\n",
    "        r = chr(n%26+65) + r\n",
    "        n /= 26\n",
    "    return r"
   ]
  }
 ],
 "metadata": {
  "kernelspec": {
   "display_name": "Python 3",
   "language": "python",
   "name": "python3"
  },
  "language_info": {
   "codemirror_mode": {
    "name": "ipython",
    "version": 3
   },
   "file_extension": ".py",
   "mimetype": "text/x-python",
   "name": "python",
   "nbconvert_exporter": "python",
   "pygments_lexer": "ipython3",
   "version": "3.7.3"
  }
 },
 "nbformat": 4,
 "nbformat_minor": 2
}
