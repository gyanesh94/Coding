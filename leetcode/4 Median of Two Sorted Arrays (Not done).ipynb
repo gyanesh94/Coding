{
 "cells": [
  {
   "cell_type": "markdown",
   "metadata": {},
   "source": [
    "[Question](https://leetcode.com/problems/median-of-two-sorted-arrays/)\n",
    "\n",
    "There are two sorted arrays nums1 and nums2 of size m and n respectively.\n",
    "\n",
    "Find the median of the two sorted arrays. The overall run time complexity should be O(log (m+n)).\n",
    "\n",
    "You may assume nums1 and nums2 cannot be both empty.\n",
    "\n",
    "Example 1:\n",
    "\n",
    "```python\n",
    "nums1 = [1, 3]\n",
    "nums2 = [2]\n",
    "\n",
    "The median is 2.0\n",
    "```\n",
    "\n",
    "Example 2:\n",
    "\n",
    "```python\n",
    "nums1 = [1, 2]\n",
    "nums2 = [3, 4]\n",
    "\n",
    "The median is (2 + 3)/2 = 2.5\n",
    "```"
   ]
  },
  {
   "cell_type": "code",
   "execution_count": null,
   "metadata": {},
   "outputs": [],
   "source": [
    "class Solution:\n",
    "    def get_median(nums, len_nums):\n",
    "        median = 0\n",
    "        mid = len_nums / 2\n",
    "        if len_nums % 2 == 0:\n",
    "            median = (nums[mid] + nums[mid - 1]) / 2.0\n",
    "        else:\n",
    "            median = nums[mid] / 2.0\n",
    "        return median\n",
    "    \n",
    "    def findMedianSortedArrays(self, nums1: 'List[int]', nums2: 'List[int]') -> 'float':\n",
    "        len_nums1 = len(nums1)\n",
    "        len_nums2 = len(nums2)\n",
    "        if len_nums1 == 0 and len_nums2 == 0:\n",
    "            return 0\n",
    "        \n",
    "        while len_nums1 > 0 and len_nums > 0:\n",
    "            mid1 = len_nums / 2.0\n",
    "            mid2 = len_nums / 2.0\n",
    "            mid1 = mid"
   ]
  }
 ],
 "metadata": {
  "kernelspec": {
   "display_name": "Python 3",
   "language": "python",
   "name": "python3"
  },
  "language_info": {
   "codemirror_mode": {
    "name": "ipython",
    "version": 3
   },
   "file_extension": ".py",
   "mimetype": "text/x-python",
   "name": "python",
   "nbconvert_exporter": "python",
   "pygments_lexer": "ipython3",
   "version": "3.7.0"
  }
 },
 "nbformat": 4,
 "nbformat_minor": 2
}
