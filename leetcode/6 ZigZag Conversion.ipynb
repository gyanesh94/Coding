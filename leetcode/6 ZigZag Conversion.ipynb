{
 "cells": [
  {
   "cell_type": "markdown",
   "metadata": {},
   "source": [
    "[Question](https://leetcode.com/problems/zigzag-conversion/)"
   ]
  },
  {
   "cell_type": "markdown",
   "metadata": {},
   "source": [
    "<b>Method 1</b>: Only to give the Desired output"
   ]
  },
  {
   "cell_type": "code",
   "execution_count": 1,
   "metadata": {},
   "outputs": [
    {
     "name": "stdout",
     "output_type": "stream",
     "text": [
      "PAYPALISHIRING\n",
      "PINALSIGYAHRPI\n"
     ]
    }
   ],
   "source": [
    "class Solution:\n",
    "    def convert(self, s: 'str', numRows: 'int') -> 'str':\n",
    "        if numRows == 1:\n",
    "            return s\n",
    "        res = [''] * numRows\n",
    "        for i in range(numRows):\n",
    "            res[i] = []\n",
    "        \n",
    "        is_down = True\n",
    "        index = 0\n",
    "        for c in s:\n",
    "            if index == numRows:\n",
    "                index -= 2\n",
    "                is_down = False\n",
    "            if index == 0:\n",
    "                is_down = True\n",
    "            \n",
    "            res[index].append(c)\n",
    "            \n",
    "            if is_down:\n",
    "                index += 1\n",
    "            else:\n",
    "                index -= 1\n",
    "        \n",
    "#         for row in res:\n",
    "#             print(\"\\t\".join(row))\n",
    "        \n",
    "        return \"\".join([\"\".join(row) for row in res])\n",
    "\n",
    "\n",
    "print(Solution().convert(\"PAYPALISHIRING\", 4))"
   ]
  },
  {
   "cell_type": "markdown",
   "metadata": {},
   "source": [
    "<b>Method 2</b>: get array with spaces"
   ]
  },
  {
   "cell_type": "code",
   "execution_count": null,
   "metadata": {},
   "outputs": [],
   "source": [
    "class Solution2:\n",
    "    def convert(self, s: 'str', numRows: 'int') -> 'str':\n",
    "        print(s)\n",
    "        if numRows == 1:\n",
    "            return s\n",
    "        res = [''] * numRows\n",
    "        for i in range(numRows):\n",
    "            res[i] = []\n",
    "        \n",
    "        is_down = True\n",
    "        index = 0\n",
    "        for c in s:\n",
    "            if index == numRows:\n",
    "                index -= 1\n",
    "                space = numRows - 2\n",
    "                while space > 0:\n",
    "                    res[index].append('')\n",
    "                    space -= 1\n",
    "                index -= 1\n",
    "                is_down = False\n",
    "            if index == 0:\n",
    "                is_down = True\n",
    "            \n",
    "            if is_down:\n",
    "                res[index].append(c)\n",
    "                index += 1\n",
    "            else:\n",
    "                space = numRows - 2\n",
    "                while space > 0:\n",
    "                    if space == index:\n",
    "                        res[index].append(c)\n",
    "                    else:\n",
    "                        res[index].append('')\n",
    "                    space -= 1\n",
    "                index -= 1\n",
    "                if index == 0:\n",
    "                    space = numRows - 2\n",
    "                    while space > 0:\n",
    "                        res[index].append('')\n",
    "                        space -= 1\n",
    "        \n",
    "        for row in res:\n",
    "            print(\"\\t\".join(row))\n",
    "        \n",
    "        return \"\".join([\"\".join(row) for row in res])\n",
    "\n",
    "\n",
    "print(Solution2().convert(\"PAYPALISHIRING\", 4))"
   ]
  },
  {
   "cell_type": "code",
   "execution_count": null,
   "metadata": {},
   "outputs": [],
   "source": []
  }
 ],
 "metadata": {
  "kernelspec": {
   "display_name": "Python 3",
   "language": "python",
   "name": "python3"
  },
  "language_info": {
   "codemirror_mode": {
    "name": "ipython",
    "version": 3
   },
   "file_extension": ".py",
   "mimetype": "text/x-python",
   "name": "python",
   "nbconvert_exporter": "python",
   "pygments_lexer": "ipython3",
   "version": "3.7.0"
  }
 },
 "nbformat": 4,
 "nbformat_minor": 2
}
