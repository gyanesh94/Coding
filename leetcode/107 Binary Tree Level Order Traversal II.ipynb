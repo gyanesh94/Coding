{
 "cells": [
  {
   "cell_type": "markdown",
   "metadata": {},
   "source": [
    "[Question](https://leetcode.com/problems/binary-tree-level-order-traversal-ii/description/)\n",
    "\n",
    "Given a binary tree, return the bottom-up level order traversal of its nodes' values. (ie, from left to right, level by level from leaf to root).\n",
    "\n",
    "For example:\n",
    "Given binary tree [3,9,20,null,null,15,7],\n",
    "\n",
    "```\n",
    "    3\n",
    "   / \\\n",
    "  9  20\n",
    "    /  \\\n",
    "   15   7\n",
    "```\n",
    "\n",
    "return its bottom-up level order traversal as:\n",
    "\n",
    "```\n",
    "[\n",
    "  [15,7],\n",
    "  [9,20],\n",
    "  [3]\n",
    "]\n",
    "```"
   ]
  },
  {
   "cell_type": "code",
   "execution_count": 1,
   "metadata": {},
   "outputs": [],
   "source": [
    "from common_code.list_to_tree_conversion import convertListToTreeNode"
   ]
  },
  {
   "cell_type": "code",
   "execution_count": 5,
   "metadata": {},
   "outputs": [
    {
     "name": "stdout",
     "output_type": "stream",
     "text": [
      "[[15, 7], [9, 20], [3]]\n"
     ]
    }
   ],
   "source": [
    "class Solution(object):\n",
    "    def levelOrderBottomIterative(self, root):\n",
    "        \"\"\"\n",
    "        :type root: TreeNode\n",
    "        :rtype: List[List[int]]\n",
    "        \"\"\"\n",
    "        queue = [[root, 0]]\n",
    "        result = []\n",
    "        while queue:\n",
    "            node, level = queue.pop(0)\n",
    "            if node is None:\n",
    "                continue\n",
    "            if len(result) < level + 1:\n",
    "                result.append([node.val])\n",
    "            else:\n",
    "                result[level].append(node.val)\n",
    "            queue.append([node.left, level + 1])\n",
    "            queue.append([node.right, level + 1])\n",
    "        result.reverse()\n",
    "        return result\n",
    "    \n",
    "    def levelOrderBottomRecursion(self, root):\n",
    "\n",
    "\n",
    "print Solution().levelOrderBottomIterative(convertListToTreeNode([3,9,20,None,None,15,7]))"
   ]
  },
  {
   "cell_type": "markdown",
   "metadata": {},
   "source": [
    "### Other Examples"
   ]
  },
  {
   "cell_type": "code",
   "execution_count": 6,
   "metadata": {},
   "outputs": [],
   "source": [
    "# dfs recursively\n",
    "def levelOrderBottom1(self, root):\n",
    "    res = []\n",
    "    self.dfs(root, 0, res)\n",
    "    return res\n",
    "\n",
    "def dfs(self, root, level, res):\n",
    "    if root:\n",
    "        if len(res) < level + 1:\n",
    "            res.insert(0, [])\n",
    "        res[-(level+1)].append(root.val)\n",
    "        self.dfs(root.left, level+1, res)\n",
    "        self.dfs(root.right, level+1, res)"
   ]
  },
  {
   "cell_type": "code",
   "execution_count": null,
   "metadata": {},
   "outputs": [],
   "source": [
    "# dfs + stack\n",
    "def levelOrderBottom2(self, root):\n",
    "    stack = [(root, 0)]\n",
    "    res = []\n",
    "    while stack:\n",
    "        node, level = stack.pop()\n",
    "        if node:\n",
    "            if len(res) < level+1:\n",
    "                res.insert(0, [])\n",
    "            res[-(level+1)].append(node.val)\n",
    "            stack.append((node.right, level+1))\n",
    "            stack.append((node.left, level+1))\n",
    "    return res"
   ]
  }
 ],
 "metadata": {
  "kernelspec": {
   "display_name": "Python 2",
   "language": "python",
   "name": "python2"
  },
  "language_info": {
   "codemirror_mode": {
    "name": "ipython",
    "version": 2
   },
   "file_extension": ".py",
   "mimetype": "text/x-python",
   "name": "python",
   "nbconvert_exporter": "python",
   "pygments_lexer": "ipython2",
   "version": "2.7.14"
  }
 },
 "nbformat": 4,
 "nbformat_minor": 2
}
