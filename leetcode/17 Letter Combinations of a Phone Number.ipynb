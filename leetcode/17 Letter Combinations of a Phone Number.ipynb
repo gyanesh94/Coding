{
 "cells": [
  {
   "cell_type": "markdown",
   "metadata": {},
   "source": [
    "[Question](https://leetcode.com/problems/letter-combinations-of-a-phone-number/)"
   ]
  },
  {
   "cell_type": "code",
   "execution_count": 14,
   "metadata": {},
   "outputs": [
    {
     "name": "stdout",
     "output_type": "stream",
     "text": [
      "['ad', 'ae', 'af', 'bd', 'be', 'bf', 'cd', 'ce', 'cf']\n",
      "['adg', 'adh', 'adi', 'aeg', 'aeh', 'aei', 'afg', 'afh', 'afi', 'bdg', 'bdh', 'bdi', 'beg', 'beh', 'bei', 'bfg', 'bfh', 'bfi', 'cdg', 'cdh', 'cdi', 'ceg', 'ceh', 'cei', 'cfg', 'cfh', 'cfi']\n"
     ]
    }
   ],
   "source": [
    "class Solution:\n",
    "    def letterCombinations(self, digits: str) -> 'List[str]':\n",
    "        number_to_alphabet_mapping = {\n",
    "            '0': [],\n",
    "            '1': [],\n",
    "            '2': ['a', 'b', 'c'],\n",
    "            '3': ['d', 'e', 'f'],\n",
    "            '4': ['g', 'h', 'i'],\n",
    "            '5': ['j', 'k', 'l'],\n",
    "            '6': ['m', 'n', 'o'],\n",
    "            '7': ['p', 'q', 'r', 's'],\n",
    "            '8': ['t', 'u', 'v'],\n",
    "            '9': ['w', 'x', 'y', 'z']\n",
    "        }\n",
    "        \n",
    "        result = []\n",
    "        for s in digits:\n",
    "            mapping = number_to_alphabet_mapping[s]\n",
    "            if not mapping:\n",
    "                continue\n",
    "            if not result:\n",
    "                result.extend(mapping)\n",
    "                continue\n",
    "            \n",
    "            mapping_len = len(mapping)\n",
    "            result_len = len(result)\n",
    "            result = mapping_len * result\n",
    "            index = 0\n",
    "            for m in mapping:\n",
    "                for i in range(result_len):\n",
    "                    result[(result_len * index) + i] += m\n",
    "                index += 1\n",
    "        \n",
    "        result.sort()\n",
    "        return result\n",
    "\n",
    "print(Solution().letterCombinations(\"23\"))\n",
    "print(Solution().letterCombinations(\"234\"))"
   ]
  },
  {
   "cell_type": "markdown",
   "metadata": {},
   "source": [
    "**Other Methods**"
   ]
  },
  {
   "cell_type": "code",
   "execution_count": 15,
   "metadata": {},
   "outputs": [
    {
     "name": "stdout",
     "output_type": "stream",
     "text": [
      "['ad', 'ae', 'af', 'bd', 'be', 'bf', 'cd', 'ce', 'cf']\n",
      "['adg', 'adh', 'adi', 'aeg', 'aeh', 'aei', 'afg', 'afh', 'afi', 'bdg', 'bdh', 'bdi', 'beg', 'beh', 'bei', 'bfg', 'bfh', 'bfi', 'cdg', 'cdh', 'cdi', 'ceg', 'ceh', 'cei', 'cfg', 'cfh', 'cfi']\n"
     ]
    }
   ],
   "source": [
    "class Solution:\n",
    "    # @param {string} digits\n",
    "    # @return {string[]}\n",
    "    def letterCombinations(self, digits):\n",
    "        mapping = {'2': 'abc', '3': 'def', '4': 'ghi', '5': 'jkl', \n",
    "                   '6': 'mno', '7': 'pqrs', '8': 'tuv', '9': 'wxyz'}\n",
    "        if len(digits) == 0:\n",
    "            return []\n",
    "        if len(digits) == 1:\n",
    "            return list(mapping[digits[0]])\n",
    "        prev = self.letterCombinations(digits[:-1])\n",
    "        additional = mapping[digits[-1]]\n",
    "        return [s + c for s in prev for c in additional]\n",
    "\n",
    "print(Solution().letterCombinations(\"23\"))\n",
    "print(Solution().letterCombinations(\"234\"))"
   ]
  },
  {
   "cell_type": "code",
   "execution_count": 16,
   "metadata": {},
   "outputs": [],
   "source": [
    "def letterCombinations(self, digits):\n",
    "    if not digits:\n",
    "        return []\n",
    "    dic = {\"2\":\"abc\", \"3\":\"def\", \"4\":\"ghi\", \"5\":\"jkl\", \"6\":\"mno\", \"7\":\"pqrs\", \"8\":\"tuv\", \"9\":\"wxyz\"}\n",
    "    res = []\n",
    "    self.dfs(digits, dic, 0, \"\", res)\n",
    "    return res\n",
    "    \n",
    "def dfs(self, digits, dic, index, path, res):\n",
    "    if len(path) == len(digits):\n",
    "        res.append(path)\n",
    "        return \n",
    "    for i in xrange(index, len(digits)):\n",
    "        for j in dic[digits[i]]:\n",
    "            self.dfs(digits, dic, i+1, path+j, res)"
   ]
  },
  {
   "cell_type": "code",
   "execution_count": null,
   "metadata": {},
   "outputs": [],
   "source": []
  }
 ],
 "metadata": {
  "kernelspec": {
   "display_name": "Python 3",
   "language": "python",
   "name": "python3"
  },
  "language_info": {
   "codemirror_mode": {
    "name": "ipython",
    "version": 3
   },
   "file_extension": ".py",
   "mimetype": "text/x-python",
   "name": "python",
   "nbconvert_exporter": "python",
   "pygments_lexer": "ipython3",
   "version": "3.7.0"
  }
 },
 "nbformat": 4,
 "nbformat_minor": 2
}
