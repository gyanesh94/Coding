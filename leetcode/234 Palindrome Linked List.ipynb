{
 "cells": [
  {
   "cell_type": "markdown",
   "metadata": {},
   "source": [
    "[Question](https://leetcode.com/problems/palindrome-linked-list/)\n",
    "\n",
    "Given a singly linked list, determine if it is a palindrome.\n",
    "\n",
    "**Example 1:**\n",
    "\n",
    "```\n",
    "Input: 1->2\n",
    "Output: false\n",
    "```\n",
    "\n",
    "**Example 2:**\n",
    "\n",
    "```\n",
    "Input: 1->2->2->1\n",
    "Output: true\n",
    "```\n",
    "\n",
    "**Follow up:**\n",
    "Could you do it in O(n) time and O(1) space?"
   ]
  },
  {
   "cell_type": "code",
   "execution_count": 1,
   "metadata": {},
   "outputs": [],
   "source": [
    "from typing import List\n",
    "import unittest"
   ]
  },
  {
   "cell_type": "code",
   "execution_count": null,
   "metadata": {},
   "outputs": [],
   "source": [
    "# Definition for singly-linked list.\n",
    "# class ListNode:\n",
    "#     def __init__(self, x):\n",
    "#         self.val = x\n",
    "#         self.next = None\n",
    "\n",
    "class Solution:\n",
    "    def isPalindrome(self, head: ListNode) -> bool:\n",
    "        stack = []\n",
    "        while head:\n",
    "            stack.append(head.val)\n",
    "            head = head.next\n",
    "        return stack == list(reversed(stack))"
   ]
  },
  {
   "cell_type": "markdown",
   "metadata": {},
   "source": [
    "Extra's"
   ]
  },
  {
   "cell_type": "code",
   "execution_count": null,
   "metadata": {},
   "outputs": [],
   "source": [
    "def isPalindrome(self, head):\n",
    "    fast = slow = head\n",
    "    # find the mid node\n",
    "    while fast and fast.next:\n",
    "        fast = fast.next.next\n",
    "        slow = slow.next\n",
    "    # reverse the second half\n",
    "    node = None\n",
    "    while slow:\n",
    "        nxt = slow.next\n",
    "        slow.next = node\n",
    "        node = slow\n",
    "        slow = nxt\n",
    "    # compare the first and second half nodes\n",
    "    while node: # while node and head:\n",
    "        if node.val != head.val:\n",
    "            return False\n",
    "        node = node.next\n",
    "        head = head.next\n",
    "    return True\n"
   ]
  },
  {
   "cell_type": "markdown",
   "metadata": {},
   "source": [
    "Here is the stack algorithm with O(N) time complexity and O(N/2) space complexity:\n",
    "\n",
    "\n",
    "\n",
    "The algorithm has two steps:\n",
    "\n",
    "\n",
    "\n",
    "1. Find the midpoint of the linked list\n",
    "2. Push the second half values into the stack\n",
    "3. Pop values out from the stack, and compare them to the first half of the linked list\n",
    "\n",
    "\n",
    "\n",
    "The advantages of this algorithm are we don't need to restore the linked list and the space complexity is acceptable (O(N/2))"
   ]
  },
  {
   "cell_type": "code",
   "execution_count": null,
   "metadata": {},
   "outputs": [],
   "source": [
    "def isPalindrome(self, head):\n",
    "\n",
    "    if not head or not head.next:\n",
    "        return True\n",
    "\n",
    "    # 1. Get the midpoint (slow)\n",
    "    slow = fast = cur = head\n",
    "    while fast and fast.next:\n",
    "        fast, slow = fast.next.next, slow.next\n",
    "    \n",
    "    # 2. Push the second half into the stack\n",
    "    stack = [slow.val]\n",
    "    while slow.next:\n",
    "        slow = slow.next\n",
    "        stack.append(slow.val)\n",
    "\n",
    "    # 3. Comparison\n",
    "    while stack:\n",
    "        if stack.pop() != cur.val:\n",
    "            return False\n",
    "        cur = cur.next\n",
    "    \n",
    "    return True\n"
   ]
  }
 ],
 "metadata": {
  "kernelspec": {
   "display_name": "Python 3",
   "language": "python",
   "name": "python3"
  },
  "language_info": {
   "codemirror_mode": {
    "name": "ipython",
    "version": 3
   },
   "file_extension": ".py",
   "mimetype": "text/x-python",
   "name": "python",
   "nbconvert_exporter": "python",
   "pygments_lexer": "ipython3",
   "version": "3.7.3"
  }
 },
 "nbformat": 4,
 "nbformat_minor": 2
}
