{
 "cells": [
  {
   "cell_type": "markdown",
   "metadata": {},
   "source": [
    "[Question](https://leetcode.com/problems/balanced-binary-tree/)"
   ]
  },
  {
   "cell_type": "code",
   "execution_count": 4,
   "metadata": {},
   "outputs": [],
   "source": [
    "from common_code.TreeNode import TreeNode\n",
    "from common_code.list_to_tree_conversion import convertListToTreeNode"
   ]
  },
  {
   "cell_type": "code",
   "execution_count": 5,
   "metadata": {},
   "outputs": [
    {
     "name": "stdout",
     "output_type": "stream",
     "text": [
      "True\n",
      "False\n"
     ]
    }
   ],
   "source": [
    "# Definition for a binary tree node.\n",
    "# class TreeNode:\n",
    "#     def __init__(self, x):\n",
    "#         self.val = x\n",
    "#         self.left = None\n",
    "#         self.right = None\n",
    "\n",
    "class Solution:\n",
    "    def is_balanced(self, root: TreeNode) -> (bool, int):\n",
    "        if not root:\n",
    "            return (True, 0)\n",
    "        \n",
    "        is_balanced_left, height_left = self.is_balanced(root.left)\n",
    "        if not is_balanced_left:\n",
    "            return (False, height_left + 1)\n",
    "        \n",
    "        is_balanced_right, height_right = self.is_balanced(root.right)\n",
    "        if not is_balanced_right:\n",
    "            return (False, height_right + 1)\n",
    "        \n",
    "        if abs(height_left - height_right) <= 1:\n",
    "            return (True, max(height_left, height_right) + 1)\n",
    "        else:\n",
    "            return (False, max(height_left, height_right) + 1)\n",
    "    \n",
    "    def isBalanced(self, root: TreeNode) -> bool:\n",
    "        is_bal, _ = self.is_balanced(root)\n",
    "        return is_bal\n",
    "\n",
    "print(Solution().isBalanced(convertListToTreeNode([3,9,20,None,None,15,7])))\n",
    "print(Solution().isBalanced(convertListToTreeNode([1,2,2,3,3,None,None,4,4])))"
   ]
  },
  {
   "cell_type": "code",
   "execution_count": null,
   "metadata": {},
   "outputs": [],
   "source": []
  }
 ],
 "metadata": {
  "kernelspec": {
   "display_name": "Python 3",
   "language": "python",
   "name": "python3"
  },
  "language_info": {
   "codemirror_mode": {
    "name": "ipython",
    "version": 3
   },
   "file_extension": ".py",
   "mimetype": "text/x-python",
   "name": "python",
   "nbconvert_exporter": "python",
   "pygments_lexer": "ipython3",
   "version": "3.7.0"
  }
 },
 "nbformat": 4,
 "nbformat_minor": 2
}
