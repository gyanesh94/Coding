{
 "cells": [
  {
   "cell_type": "markdown",
   "metadata": {},
   "source": [
    "[Question](https://leetcode.com/problems/pascals-triangle-ii/)\n",
    "\n",
    "Given a non-negative index k where k ≤ 33, return the kth index row of the Pascal's triangle.\n",
    "\n",
    "Note that the row index starts from 0."
   ]
  },
  {
   "cell_type": "code",
   "execution_count": 5,
   "metadata": {},
   "outputs": [
    {
     "name": "stdout",
     "output_type": "stream",
     "text": [
      "[1]\n",
      "[1, 1]\n",
      "[1, 3, 3, 1]\n",
      "[1, 33, 528, 5456, 40920, 237336, 1107568, 4272048, 13884156, 38567100, 92561040, 193536720, 354817320, 573166440, 818809200, 1037158320, 1166803110, 1166803110, 1037158320, 818809200, 573166440, 354817320, 193536720, 92561040, 38567100, 13884156, 4272048, 1107568, 237336, 40920, 5456, 528, 33, 1]\n"
     ]
    }
   ],
   "source": [
    "class Solution(object):\n",
    "    def getRow(self, rowIndex):\n",
    "        \"\"\"\n",
    "        :type rowIndex: int\n",
    "        :rtype: List[int]\n",
    "        \"\"\"\n",
    "        if rowIndex == 0:\n",
    "            return [1]\n",
    "        previousRow = [1]\n",
    "        for row in range(1, rowIndex + 1):\n",
    "            newRow = [1] * (row + 1)\n",
    "            for index in range(1, row):\n",
    "                newRow[index] = previousRow[index] + previousRow[index - 1]\n",
    "            previousRow = newRow\n",
    "        return newRow\n",
    "\n",
    "print(Solution().getRow(0))\n",
    "print(Solution().getRow(1))\n",
    "print(Solution().getRow(3))\n",
    "print(Solution().getRow(33))"
   ]
  },
  {
   "cell_type": "markdown",
   "metadata": {},
   "source": [
    "Extra's"
   ]
  },
  {
   "cell_type": "code",
   "execution_count": 7,
   "metadata": {},
   "outputs": [
    {
     "name": "stdout",
     "output_type": "stream",
     "text": [
      "[1]\n",
      "[1, 1]\n",
      "[1, 3, 3, 1]\n",
      "[1, 33, 528, 5456, 40920, 237336, 1107568, 4272048, 13884156, 38567100, 92561040, 193536720, 354817320, 573166440, 818809200, 1037158320, 1166803110, 1166803110, 1037158320, 818809200, 573166440, 354817320, 193536720, 92561040, 38567100, 13884156, 4272048, 1107568, 237336, 40920, 5456, 528, 33, 1]\n"
     ]
    }
   ],
   "source": [
    "class Solution(object):\n",
    "    def getRow(self, rowIndex):\n",
    "        pascal = [1]*(rowIndex + 1)\n",
    "        for i in range(2,rowIndex+1):\n",
    "            for j in range(i-1,0,-1):\n",
    "                pascal[j] += pascal[j-1]\n",
    "        return pascal\n",
    "\n",
    "print(Solution().getRow(0))\n",
    "print(Solution().getRow(1))\n",
    "print(Solution().getRow(3))\n",
    "print(Solution().getRow(33))"
   ]
  },
  {
   "cell_type": "code",
   "execution_count": null,
   "metadata": {},
   "outputs": [],
   "source": []
  }
 ],
 "metadata": {
  "kernelspec": {
   "display_name": "Python 3",
   "language": "python",
   "name": "python3"
  },
  "language_info": {
   "codemirror_mode": {
    "name": "ipython",
    "version": 3
   },
   "file_extension": ".py",
   "mimetype": "text/x-python",
   "name": "python",
   "nbconvert_exporter": "python",
   "pygments_lexer": "ipython3",
   "version": "3.7.3"
  }
 },
 "nbformat": 4,
 "nbformat_minor": 2
}
