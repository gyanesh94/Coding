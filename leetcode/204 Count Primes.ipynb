{
 "cells": [
  {
   "cell_type": "markdown",
   "metadata": {},
   "source": [
    "[Question](https://leetcode.com/problems/count-primes/)\n",
    "\n",
    "Count the number of prime numbers less than a non-negative number, **n**.\n",
    "\n",
    "**Example:**\n",
    "\n",
    "```\n",
    "Input: 10\n",
    "Output: 4\n",
    "Explanation: There are 4 prime numbers less than 10, they are 2, 3, 5, 7.\n",
    "```"
   ]
  },
  {
   "cell_type": "code",
   "execution_count": 1,
   "metadata": {},
   "outputs": [],
   "source": [
    "from typing import List\n",
    "import unittest"
   ]
  },
  {
   "cell_type": "code",
   "execution_count": null,
   "metadata": {},
   "outputs": [],
   "source": [
    "class Solution:\n",
    "    def countPrimes(self, n: int) -> int:\n",
    "        if n < 2:\n",
    "            return 0\n",
    "        final_num = int(math.pow(n, 0.5))\n",
    "        primes = [1] * n\n",
    "        primes[0] = 0\n",
    "        primes[1] = 0\n",
    "        for i in range(2, final_num + 1):\n",
    "            if not primes[i]:\n",
    "                continue\n",
    "            index = 2\n",
    "            while i * index < n:\n",
    "                primes[i * index] = 0\n",
    "                index += 1\n",
    "        return sum(primes)\n"
   ]
  },
  {
   "cell_type": "markdown",
   "metadata": {},
   "source": [
    "Extra's"
   ]
  },
  {
   "cell_type": "code",
   "execution_count": null,
   "metadata": {},
   "outputs": [],
   "source": [
    "class Solution:\n",
    "    def countPrimes(self, n: int) -> int:\n",
    "        if n < 2:\n",
    "            return 0\n",
    "        final_num = int(math.pow(n, 0.5))\n",
    "        primes = [1] * n\n",
    "        primes[0] = 0\n",
    "        primes[1] = 0\n",
    "        for i in range(2, final_num + 1):\n",
    "            if not primes[i]:\n",
    "                continue\n",
    "            index = 2\n",
    "            while i * index < n:\n",
    "                primes[i * index] = 0\n",
    "                index += 1\n",
    "        return sum(primes)\n",
    "       python"
   ]
  }
 ],
 "metadata": {
  "kernelspec": {
   "display_name": "Python 3",
   "language": "python",
   "name": "python3"
  },
  "language_info": {
   "codemirror_mode": {
    "name": "ipython",
    "version": 3
   },
   "file_extension": ".py",
   "mimetype": "text/x-python",
   "name": "python",
   "nbconvert_exporter": "python",
   "pygments_lexer": "ipython3",
   "version": "3.7.3"
  }
 },
 "nbformat": 4,
 "nbformat_minor": 2
}
