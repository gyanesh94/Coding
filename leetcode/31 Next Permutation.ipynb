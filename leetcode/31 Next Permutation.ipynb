{
 "cells": [
  {
   "cell_type": "markdown",
   "metadata": {},
   "source": [
    "[Question](https://leetcode.com/problems/next-permutation/)\n",
    "\n",
    "Implement **next permutation**, which rearranges numbers into the lexicographically next greater permutation of numbers.\n",
    "\n",
    "If such arrangement is not possible, it must rearrange it as the lowest possible order (ie, sorted in ascending order).\n",
    "\n",
    "The replacement must be **in-place** and use only constant extra memory.\n",
    "\n",
    "Here are some examples. Inputs are in the left-hand column and its corresponding outputs are in the right-hand column.\n",
    "\n",
    "```\n",
    "1,2,3 → 1,3,2\n",
    "3,2,1 → 1,2,3\n",
    "1,1,5 → 1,5,1\n",
    "```"
   ]
  },
  {
   "cell_type": "code",
   "execution_count": 5,
   "metadata": {},
   "outputs": [],
   "source": [
    "from typing import List\n",
    "import unittest"
   ]
  },
  {
   "cell_type": "code",
   "execution_count": 35,
   "metadata": {},
   "outputs": [
    {
     "name": "stdout",
     "output_type": "stream",
     "text": [
      "[3, 1, 2]\n"
     ]
    }
   ],
   "source": [
    "class Solution:\n",
    "    def nextPermutation(self, nums: List[int]) -> None:\n",
    "        \"\"\"\n",
    "        Do not return anything, modify nums in-place instead.\n",
    "        \"\"\"\n",
    "        nums_len = len(nums)\n",
    "        if nums_len < 2:\n",
    "            return\n",
    "        nums_len *= -1\n",
    "        index_lowest_element = -2\n",
    "        while nums_len <= index_lowest_element:\n",
    "            if nums[index_lowest_element] < nums[index_lowest_element + 1]:\n",
    "                break\n",
    "            index_lowest_element -= 1\n",
    "\n",
    "        # Reached the end of the List so just reverse the List\n",
    "        if index_lowest_element == nums_len - 1:\n",
    "            nums.reverse()\n",
    "            return\n",
    "        \n",
    "        # Find the next largest element in the List compared to the smallest\n",
    "        index = -1\n",
    "        while index > index_lowest_element:\n",
    "            if nums[index] > nums[index_lowest_element]:\n",
    "                break\n",
    "            index -= 1\n",
    "        \n",
    "        # move the next largest digit to the smallest digit place\n",
    "        next_big_element = nums.pop(index)\n",
    "        # index_lowest_element + 1 because size of the list is reduced by 1\n",
    "        nums.insert(index_lowest_element + 1, next_big_element)\n",
    "        \n",
    "        # sort the remainig list\n",
    "        remaining_list = nums[index_lowest_element + 1:]\n",
    "        remaining_list.sort()\n",
    "        nums[index_lowest_element + 1:] = remaining_list\n"
   ]
  },
  {
   "cell_type": "code",
   "execution_count": 42,
   "metadata": {},
   "outputs": [
    {
     "name": "stderr",
     "output_type": "stream",
     "text": [
      "........\n",
      "----------------------------------------------------------------------\n",
      "Ran 8 tests in 0.014s\n",
      "\n",
      "OK\n"
     ]
    }
   ],
   "source": [
    "class Test(unittest.TestCase):\n",
    "\n",
    "    def test_problemExample1(self):\n",
    "        n = [1, 2, 3]\n",
    "        Solution().nextPermutation(n)\n",
    "        self.assertEqual(n, [1, 3, 2])\n",
    "\n",
    "    def test_problemExample2(self):\n",
    "        n = [3, 2, 1]\n",
    "        Solution().nextPermutation(n)\n",
    "        self.assertEqual(n, [1, 2, 3])\n",
    "        \n",
    "    def test_problemExample3(self):\n",
    "        n = [1, 1, 5]\n",
    "        Solution().nextPermutation(n)\n",
    "        self.assertEqual(n, [1, 5, 1])\n",
    "\n",
    "    def test_empty(self):\n",
    "        n = []\n",
    "        Solution().nextPermutation(n)\n",
    "        self.assertEqual(n, [])\n",
    "    \n",
    "    def test_main1(self):\n",
    "        n = [1, 3, 2]\n",
    "        Solution().nextPermutation(n)\n",
    "        self.assertEqual(n, [2, 1, 3])\n",
    "\n",
    "    def test_main2(self):\n",
    "        n = [1, 4, 3, 2]\n",
    "        Solution().nextPermutation(n)\n",
    "        self.assertEqual(n, [2, 1, 3, 4])\n",
    "    \n",
    "    def test_main3(self):\n",
    "        n = [2, 3, 1]\n",
    "        Solution().nextPermutation(n)\n",
    "        self.assertEqual(n, [3, 1, 2])\n",
    "    \n",
    "    def test_main4(self):\n",
    "        n = [3, 4, 2, 1]\n",
    "        Solution().nextPermutation(n)\n",
    "        self.assertEqual(n, [4, 1, 2, 3])\n",
    "\n",
    "if __name__ == '__main__':\n",
    "    unittest.main(argv=['first-arg-is-ignored'], exit=False)"
   ]
  },
  {
   "attachments": {},
   "cell_type": "markdown",
   "metadata": {},
   "source": [
    "Extra's\n",
    "\n",
    "![image.png](images/31_Next_Permutation.png)"
   ]
  },
  {
   "cell_type": "code",
   "execution_count": 41,
   "metadata": {},
   "outputs": [],
   "source": [
    "class Solution:\n",
    "    def nextPermutation(self, nums: List[int]) -> None:\n",
    "        \"\"\"\n",
    "        Do not return anything, modify nums in-place instead.\n",
    "        \"\"\"\n",
    "        i = j = len(nums) - 1\n",
    "        while i > 0 and nums[i] <= nums[i-1]:\n",
    "            i -= 1\n",
    "        if i > 0:\n",
    "            while nums[j] <= nums[i-1]:\n",
    "                j -= 1\n",
    "            nums[i-1], nums[j] = nums[j], nums[i-1]\n",
    "        nums[i:] = reversed(nums[i:])\n"
   ]
  },
  {
   "cell_type": "code",
   "execution_count": null,
   "metadata": {},
   "outputs": [],
   "source": []
  }
 ],
 "metadata": {
  "kernelspec": {
   "display_name": "Python 3",
   "language": "python",
   "name": "python3"
  },
  "language_info": {
   "codemirror_mode": {
    "name": "ipython",
    "version": 3
   },
   "file_extension": ".py",
   "mimetype": "text/x-python",
   "name": "python",
   "nbconvert_exporter": "python",
   "pygments_lexer": "ipython3",
   "version": "3.7.3"
  }
 },
 "nbformat": 4,
 "nbformat_minor": 2
}
