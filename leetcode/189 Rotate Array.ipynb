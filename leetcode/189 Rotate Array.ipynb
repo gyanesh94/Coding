{
 "cells": [
  {
   "cell_type": "markdown",
   "metadata": {},
   "source": [
    "[Question](https://leetcode.com/problems/rotate-array/)\n",
    "\n",
    "Given an array, rotate the array to the right by *k* steps, where *k* is non-negative.\n",
    "\n",
    "**Example 1:**\n",
    "\n",
    "```\n",
    "Input: [1,2,3,4,5,6,7] and k = 3\n",
    "Output: [5,6,7,1,2,3,4]\n",
    "Explanation:\n",
    "rotate 1 steps to the right: [7,1,2,3,4,5,6]\n",
    "rotate 2 steps to the right: [6,7,1,2,3,4,5]\n",
    "rotate 3 steps to the right: [5,6,7,1,2,3,4]\n",
    "```\n",
    "\n",
    "**Example 2:**\n",
    "\n",
    "```\n",
    "Input: [-1,-100,3,99] and k = 2\n",
    "Output: [3,99,-1,-100]\n",
    "Explanation: \n",
    "rotate 1 steps to the right: [99,-1,-100,3]\n",
    "rotate 2 steps to the right: [3,99,-1,-100]\n",
    "```\n",
    "\n",
    "**Note:**\n",
    "\n",
    "- Try to come up as many solutions as you can, there are at least 3 different ways to solve this problem.\n",
    "- Could you do it in-place with O(1) extra space?"
   ]
  },
  {
   "cell_type": "code",
   "execution_count": 1,
   "metadata": {},
   "outputs": [],
   "source": [
    "from typing import List\n",
    "import unittest"
   ]
  },
  {
   "cell_type": "markdown",
   "metadata": {},
   "source": [
    "Method 1"
   ]
  },
  {
   "cell_type": "code",
   "execution_count": null,
   "metadata": {},
   "outputs": [],
   "source": [
    "class Solution:\n",
    "    def rotate(self, nums: List[int], k: int) -> None:\n",
    "        \"\"\"\n",
    "        Do not return anything, modify nums in-place instead.\n",
    "        \"\"\"\n",
    "        k = k % len(nums)\n",
    "        if k ==  0 or k == len(nums):\n",
    "            return\n",
    "        nums.reverse()\n",
    "        nums[0:k] = nums[k - 1::-1]\n",
    "        nums[k:] = nums[-1:k - 1:-1]\n"
   ]
  },
  {
   "cell_type": "markdown",
   "metadata": {},
   "source": [
    "Method 2"
   ]
  },
  {
   "cell_type": "code",
   "execution_count": null,
   "metadata": {},
   "outputs": [],
   "source": [
    "def rotate2(nums, k):\n",
    "    k %= len(nums)\n",
    "    for _ in xrange(k):\n",
    "        nums.insert(0, nums.pop())"
   ]
  },
  {
   "cell_type": "markdown",
   "metadata": {},
   "source": [
    "Method 3"
   ]
  },
  {
   "cell_type": "code",
   "execution_count": null,
   "metadata": {},
   "outputs": [],
   "source": [
    "# O(n) space       \n",
    "def rotate(nums, k):\n",
    "    deque = collections.deque(nums)\n",
    "    k %= len(nums)\n",
    "    for _ in xrange(k):\n",
    "        deque.appendleft(deque.pop())\n",
    "    nums[:] = list(deque)"
   ]
  },
  {
   "cell_type": "markdown",
   "metadata": {},
   "source": [
    "The algorithm is easy: we just swap the last k elements with the first n-k elements ..."
   ]
  },
  {
   "cell_type": "code",
   "execution_count": 1,
   "metadata": {},
   "outputs": [],
   "source": [
    "class Solution:\n",
    "    # @param nums, a list of integer\n",
    "    # @param k, num of steps\n",
    "    # @return nothing, please modify the nums list in-place.\n",
    "    def rotate(self, nums, k):\n",
    "        if not nums or not k:\n",
    "            return None\n",
    "\n",
    "        k %= len(nums)\n",
    "\n",
    "        if k:\n",
    "            nums[:k], nums[k:] = nums[-k:], nums[:-k]\n"
   ]
  },
  {
   "cell_type": "markdown",
   "metadata": {},
   "source": [
    "Extra's"
   ]
  },
  {
   "cell_type": "markdown",
   "metadata": {},
   "source": [
    "## **Classical 3-step array rotation:**\n",
    "\n",
    "> 1. \n",
    ">\n",
    ">    reverse the first n - k elements\n",
    ">\n",
    ">    \n",
    ">\n",
    "> 2. \n",
    ">\n",
    ">    reverse the rest of them\n",
    ">\n",
    ">    \n",
    ">\n",
    "> 3. \n",
    ">\n",
    ">    reverse the entire array\n",
    ">\n",
    ">    \n",
    "\n",
    "```python\n",
    "class Solution(object):\n",
    "    def rotate(self, nums, k):\n",
    "        if k is None or k <= 0:\n",
    "            return\n",
    "        k, end = k % len(nums), len(nums) - 1\n",
    "        self.reverse(nums, 0, end - k)\n",
    "        self.reverse(nums, end - k + 1, end)\n",
    "        self.reverse(nums, 0, end)\n",
    "        \n",
    "    def reverse(self, nums, start, end):\n",
    "        while start < end:\n",
    "            nums[start], nums[end] = nums[end], nums[start]\n",
    "            start, end = start + 1, end - 1\n",
    "```\n",
    "\n",
    "\n",
    "\n",
    "**O(n) in time, O(1) in space**\n",
    "\n",
    "\n",
    "\n",
    "## **Rotate k times**:\n",
    "\n",
    "\n",
    "\n",
    "Each rotation, we move the `n - 1` to the back of the array one by one and we do rotation `k` times.\n",
    "\n",
    "\n",
    "\n",
    "```python\n",
    "class Solution(object):\n",
    "    def rotate(self, nums, k):\n",
    "        k = k % len(nums)\n",
    "        for i in xrange(0, k):\n",
    "            tmp = nums[-1]\n",
    "            for j in xrange(0, len(nums) - 1):\n",
    "                nums[len(nums) - 1 - j] = nums[len(nums) - 2 - j]\n",
    "            nums[0] = tmp\n",
    "```\n",
    "\n",
    "\n",
    "\n",
    "**O(n^2) in time, O(1) in space**\n",
    "\n",
    "\n",
    "\n",
    "**It can't pass the OJ due to TLE.**\n",
    "\n",
    "\n",
    "\n",
    "## **Recursive solution**\n",
    "\n",
    "\n",
    "\n",
    "put the shorter part in the correct position then do the rest of them iteratively. This is not necessarily to be a recursive solution.\n",
    "\n",
    "\n",
    "\n",
    "```python\n",
    "class Solution(object):\n",
    "    def rotate(self, nums, k):\n",
    "        self.helper(0, len(nums) - 1 - (k % len(nums)), len(nums) - 1, nums) # mid belongs to left part\n",
    "\n",
    "    def helper(self, start, mid, end, nums):\n",
    "        left, right = mid - start, end - mid - 1\n",
    "        if left < 0 or right < 0:\n",
    "            return\n",
    "        if left > right:\n",
    "            for j in xrange(mid + 1, end + 1):\n",
    "                nums[j], nums[start] = nums[start], nums[j]\n",
    "                start += 1\n",
    "            self.helper(start, mid, end, nums)\n",
    "        elif right >= left:\n",
    "            i = mid\n",
    "            while i >= start:\n",
    "                nums[i], nums[end] = nums[end], nums[i]\n",
    "                i, end = i - 1, end - 1\n",
    "            if left != right:\n",
    "                self.helper(start, mid, end, nums)\n",
    "```\n",
    "\n",
    "\n",
    "\n",
    "**O(n) in time, O(n) in space**\n",
    "\n",
    "\n",
    "\n",
    "## **Iterative and improved solution:**\n",
    "\n",
    "\n",
    "\n",
    "put the last `k` elements in correct position (ahead) and do the remaining `n - k`. Once finish swap, the `n` and k decrease.\n",
    "\n",
    "\n",
    "\n",
    "```python\n",
    "class Solution(object):\n",
    "    def rotate(self, nums, k):\n",
    "        \"\"\"\n",
    "        :type nums: List[int]\n",
    "        :type k: int\n",
    "        :rtype: void Do not return anything, modify nums in-place instead.\n",
    "        \"\"\"\n",
    "        n, k, j = len(nums), k % len(nums), 0\n",
    "        while n > 0 and k % n != 0:\n",
    "            for i in xrange(0, k):\n",
    "                nums[j + i], nums[len(nums) - k + i] = nums[len(nums) - k + i], nums[j + i] # swap\n",
    "            n, j = n - k, j + k\n",
    "            k = k % n\n",
    "```\n",
    "\n",
    "\n",
    "\n",
    "**O(n) in time, O(1) in space**"
   ]
  },
  {
   "cell_type": "code",
   "execution_count": null,
   "metadata": {},
   "outputs": [],
   "source": []
  }
 ],
 "metadata": {
  "kernelspec": {
   "display_name": "Python 3",
   "language": "python",
   "name": "python3"
  },
  "language_info": {
   "codemirror_mode": {
    "name": "ipython",
    "version": 3
   },
   "file_extension": ".py",
   "mimetype": "text/x-python",
   "name": "python",
   "nbconvert_exporter": "python",
   "pygments_lexer": "ipython3",
   "version": "3.7.3"
  }
 },
 "nbformat": 4,
 "nbformat_minor": 2
}
