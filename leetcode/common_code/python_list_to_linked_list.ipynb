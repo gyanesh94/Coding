{
 "cells": [
  {
   "cell_type": "markdown",
   "metadata": {},
   "source": [
    "### To use just import this\n",
    "```python\n",
    "from common_code.python_list_to_linked_list import convertListToLinkedList\n",
    "```"
   ]
  },
  {
   "cell_type": "code",
   "execution_count": null,
   "metadata": {},
   "outputs": [],
   "source": [
    "class ListNode(object):\n",
    "    def __init__(self, x):\n",
    "        self.val = x\n",
    "        self.next = None\n",
    "\n",
    "\n",
    "def convertListToLinkedList(l):\n",
    "    if len(l) == 0:\n",
    "        return None\n",
    "    startNode = ListNode(l[0])\n",
    "    currentNode = startNode\n",
    "    for i in range(1, len(l)):\n",
    "        currentNode.next = ListNode(l[i])\n",
    "        currentNode = currentNode.next\n",
    "    return startNode"
   ]
  }
 ],
 "metadata": {
  "kernelspec": {
   "display_name": "Python 2",
   "language": "python",
   "name": "python2"
  },
  "language_info": {
   "codemirror_mode": {
    "name": "ipython",
    "version": 2
   },
   "file_extension": ".py",
   "mimetype": "text/x-python",
   "name": "python",
   "nbconvert_exporter": "python",
   "pygments_lexer": "ipython2",
   "version": "2.7.14"
  }
 },
 "nbformat": 4,
 "nbformat_minor": 2
}
