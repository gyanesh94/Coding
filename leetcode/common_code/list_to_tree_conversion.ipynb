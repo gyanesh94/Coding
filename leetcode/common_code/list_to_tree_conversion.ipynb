{
 "cells": [
  {
   "cell_type": "markdown",
   "metadata": {},
   "source": [
    "### To use just import this\n",
    "```python\n",
    "from common_code.list_to_tree_conversion import convertListToTreeNode\n",
    "```\n",
    "\n",
    "#### Note\n",
    "- Convert all 'null' values to 'None' in the list"
   ]
  },
  {
   "cell_type": "code",
   "execution_count": null,
   "metadata": {},
   "outputs": [],
   "source": [
    "class TreeNode(object):\n",
    "    def __init__(self, x):\n",
    "        self.val = x\n",
    "        self.left = None\n",
    "        self.right = None\n",
    "\n",
    "\n",
    "def fillTreeWithData(data, loc):\n",
    "    if loc > len(data) or data[loc - 1] is None:\n",
    "        return None\n",
    "    root = TreeNode(data[loc - 1])\n",
    "    root.left = fillTreeWithData(data, 2*loc)\n",
    "    root.right = fillTreeWithData(data, (2*loc) + 1)\n",
    "    return root\n",
    "\n",
    "\n",
    "def convertListToTreeNode(l):\n",
    "    if len(l) == 0:\n",
    "        return None\n",
    "    return fillTreeWithData(l, 1)"
   ]
  }
 ],
 "metadata": {
  "kernelspec": {
   "display_name": "Python 2",
   "language": "python",
   "name": "python2"
  },
  "language_info": {
   "codemirror_mode": {
    "name": "ipython",
    "version": 2
   },
   "file_extension": ".py",
   "mimetype": "text/x-python",
   "name": "python",
   "nbconvert_exporter": "python",
   "pygments_lexer": "ipython2",
   "version": "2.7.14"
  }
 },
 "nbformat": 4,
 "nbformat_minor": 2
}
