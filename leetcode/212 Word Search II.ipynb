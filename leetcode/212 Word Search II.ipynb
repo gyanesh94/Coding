{
 "cells": [
  {
   "cell_type": "markdown",
   "metadata": {},
   "source": [
    "[Question](https://leetcode.com/problems/word-search-ii/)\n",
    "\n",
    "Given a 2D board and a list of words from the dictionary, find all words in the board.\n",
    "\n",
    "Each word must be constructed from letters of sequentially adjacent cell, where \"adjacent\" cells are those horizontally or vertically neighboring. The same letter cell may not be used more than once in a word.\n",
    "\n",
    " \n",
    "\n",
    "**Example:**\n",
    "\n",
    "```\n",
    "Input: \n",
    "board = [\n",
    "  ['o','a','a','n'],\n",
    "  ['e','t','a','e'],\n",
    "  ['i','h','k','r'],\n",
    "  ['i','f','l','v']\n",
    "]\n",
    "words = [\"oath\",\"pea\",\"eat\",\"rain\"]\n",
    "\n",
    "Output: [\"eat\",\"oath\"]\n",
    "```"
   ]
  },
  {
   "cell_type": "code",
   "execution_count": 2,
   "metadata": {},
   "outputs": [],
   "source": [
    "from typing import List\n",
    "import unittest"
   ]
  },
  {
   "cell_type": "markdown",
   "metadata": {},
   "source": [
    "DFS Solution"
   ]
  },
  {
   "cell_type": "code",
   "execution_count": 14,
   "metadata": {},
   "outputs": [
    {
     "name": "stdout",
     "output_type": "stream",
     "text": [
      "['aaab', 'aaba', 'aaa', 'aba', 'baa']\n"
     ]
    }
   ],
   "source": [
    "class Solution:\n",
    "    def findWords(self, board: List[List[str]], words: List[str]) -> List[str]:\n",
    "        result = set()\n",
    "        for word in words:\n",
    "            index = len(word) - 1\n",
    "            flag = False\n",
    "            for i in range(len(board)):\n",
    "                for j in range(len(board[0])):\n",
    "                    if word[index] == board[i][j]:\n",
    "                        temp = board[i][j]\n",
    "                        board[i][j] = None\n",
    "                        if self.word_valid(board, word, index - 1, i - 1, j):\n",
    "                            result.add(word)\n",
    "                            board[i][j] = temp\n",
    "                            break\n",
    "                        if self.word_valid(board, word, index - 1, i + 1, j):\n",
    "                            result.add(word)\n",
    "                            board[i][j] = temp\n",
    "                            break\n",
    "                        if self.word_valid(board, word, index - 1, i, j - 1):\n",
    "                            result.add(word)\n",
    "                            board[i][j] = temp\n",
    "                            break\n",
    "                        if self.word_valid(board, word, index - 1, i, j + 1):\n",
    "                            result.add(word)\n",
    "                            board[i][j] = temp\n",
    "                            break\n",
    "                        board[i][j] = temp\n",
    "                if flag:\n",
    "                    break\n",
    "        return list(result)\n",
    "        \n",
    "    def word_valid(self, board: List[List[str]], word: str, index: int, row: int, col: int) -> bool:\n",
    "#         print(\"row: {}\\t col: {}\".format(row, col))\n",
    "        if index == -1:\n",
    "            return True\n",
    "        \n",
    "        len_board = len(board)\n",
    "        if row == -1 or col == -1 or row == len_board or col == len(board[0]):\n",
    "            return False\n",
    "        \n",
    "        result = False\n",
    "        if word[index] == board[row][col]:\n",
    "            temp = board[row][col]\n",
    "            board[row][col] = None\n",
    "            result = self.word_valid(board, word, index - 1, row - 1, col) or \\\n",
    "                    self.word_valid(board, word, index - 1, row + 1, col) or \\\n",
    "                    self.word_valid(board, word, index - 1, row, col - 1) or \\\n",
    "                    self.word_valid(board, word, index - 1, row, col + 1)\n",
    "            board[row][col] = temp\n",
    "        return result\n",
    "    \n",
    "board = [\n",
    "  ['o','a','a','n'],\n",
    "  ['e','t','a','e'],\n",
    "  ['i','h','k','r'],\n",
    "  ['i','f','l','v']\n",
    "]\n",
    "words = [\"oath\",\"pea\",\"eat\",\"rain\"]\n",
    "\n",
    "# print(Solution().findWords(board, words))   # Output: [\"eat\",\"oath\"]\n",
    "\n",
    "board = [[\"a\",\"b\"],[\"a\",\"a\"]]\n",
    "words = [\"aba\",\"baa\",\"bab\",\"aaab\",\"aaa\",\"aaaa\",\"aaba\"]\n",
    "print(Solution().findWords(board, words))   # Output: [\"aaa\",\"aaab\",\"aaba\",\"aba\",\"baa\"]"
   ]
  },
  {
   "cell_type": "markdown",
   "metadata": {},
   "source": [
    "Using Trie"
   ]
  },
  {
   "cell_type": "code",
   "execution_count": 15,
   "metadata": {},
   "outputs": [],
   "source": [
    "class TrieNode():\n",
    "    def __init__(self):\n",
    "        self.children = collections.defaultdict(TrieNode)\n",
    "        self.isWord = False\n",
    "    \n",
    "class Trie():\n",
    "    def __init__(self):\n",
    "        self.root = TrieNode()\n",
    "    \n",
    "    def insert(self, word):\n",
    "        node = self.root\n",
    "        for w in word:\n",
    "            node = node.children[w]\n",
    "        node.isWord = True\n",
    "    \n",
    "    def search(self, word):\n",
    "        node = self.root\n",
    "        for w in word:\n",
    "            node = node.children.get(w)\n",
    "            if not node:\n",
    "                return False\n",
    "        return node.isWord\n",
    "    \n",
    "class Solution(object):\n",
    "    def findWords(self, board, words):\n",
    "        res = []\n",
    "        trie = Trie()\n",
    "        node = trie.root\n",
    "        for w in words:\n",
    "            trie.insert(w)\n",
    "        for i in range(len(board)):\n",
    "            for j in range(len(board[0])):\n",
    "                self.dfs(board, node, i, j, \"\", res)\n",
    "        return res\n",
    "    \n",
    "    def dfs(self, board, node, i, j, path, res):\n",
    "        if node.isWord:\n",
    "            res.append(path)\n",
    "            node.isWord = False\n",
    "        if i < 0 or i >= len(board) or j < 0 or j >= len(board[0]):\n",
    "            return \n",
    "        tmp = board[i][j]\n",
    "        node = node.children.get(tmp)\n",
    "        if not node:\n",
    "            return \n",
    "        board[i][j] = \"#\"\n",
    "        self.dfs(board, node, i+1, j, path+tmp, res)\n",
    "        self.dfs(board, node, i-1, j, path+tmp, res)\n",
    "        self.dfs(board, node, i, j-1, path+tmp, res)\n",
    "        self.dfs(board, node, i, j+1, path+tmp, res)\n",
    "        board[i][j] = tmp"
   ]
  },
  {
   "cell_type": "code",
   "execution_count": 6,
   "metadata": {},
   "outputs": [
    {
     "name": "stderr",
     "output_type": "stream",
     "text": [
      "...\n",
      "----------------------------------------------------------------------\n",
      "Ran 3 tests in 0.005s\n",
      "\n",
      "OK\n"
     ]
    }
   ],
   "source": [
    "class Test(unittest.TestCase):\n",
    "    def setUp(self):\n",
    "        pass\n",
    "\n",
    "    def tearDown(self):\n",
    "        pass\n",
    "\n",
    "    def test_upper(self):\n",
    "        self.assertEqual('foo'.upper(), 'FOO', \"What the fuck is this message\")\n",
    "\n",
    "    def test_isupper(self):\n",
    "        self.assertTrue('FOO'.isupper())\n",
    "        self.assertFalse('Foo'.isupper())\n",
    "\n",
    "    def test_split(self):\n",
    "        s = 'hello world'\n",
    "        self.assertEqual(s.split(), ['hello', 'world'])\n",
    "        # check that s.split fails when the separator is not a string\n",
    "        with self.assertRaises(TypeError):\n",
    "            s.split(2)\n",
    "\n",
    "if __name__ == '__main__':\n",
    "    unittest.main(argv=['first-arg-is-ignored'], exit=False)"
   ]
  },
  {
   "cell_type": "markdown",
   "metadata": {},
   "source": [
    "Extra's"
   ]
  }
 ],
 "metadata": {
  "kernelspec": {
   "display_name": "Python 3",
   "language": "python",
   "name": "python3"
  },
  "language_info": {
   "codemirror_mode": {
    "name": "ipython",
    "version": 3
   },
   "file_extension": ".py",
   "mimetype": "text/x-python",
   "name": "python",
   "nbconvert_exporter": "python",
   "pygments_lexer": "ipython3",
   "version": "3.7.3"
  }
 },
 "nbformat": 4,
 "nbformat_minor": 2
}
