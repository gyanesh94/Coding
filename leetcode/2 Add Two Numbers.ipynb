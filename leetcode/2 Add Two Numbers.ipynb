{
 "cells": [
  {
   "cell_type": "markdown",
   "metadata": {},
   "source": [
    "[Question](https://leetcode.com/problems/add-two-numbers/description/)\n",
    "\n",
    "You are given two non-empty linked lists representing two non-negative integers. The digits are stored in reverse order and each of their nodes contain a single digit. Add the two numbers and return it as a linked list.\n",
    "\n",
    "You may assume the two numbers do not contain any leading zero, except the number 0 itself.\n",
    "\n",
    "Example:\n",
    "\n",
    "```\n",
    "Input: (2 -> 4 -> 3) + (5 -> 6 -> 4)\n",
    "Output: 7 -> 0 -> 8\n",
    "Explanation: 342 + 465 = 807.\n",
    "```"
   ]
  },
  {
   "cell_type": "code",
   "execution_count": 9,
   "metadata": {},
   "outputs": [],
   "source": [
    "from common_code.python_list_to_linked_list import convertListToLinkedList, ListNode\n",
    "from common_code.linked_list_to_python_list import convertLinkedListToList"
   ]
  },
  {
   "cell_type": "code",
   "execution_count": 23,
   "metadata": {},
   "outputs": [
    {
     "name": "stdout",
     "output_type": "stream",
     "text": [
      "0\n",
      "[0, 0, 1]\n"
     ]
    }
   ],
   "source": [
    "# Definition for singly-linked list.\n",
    "# class ListNode(object):\n",
    "#     def __init__(self, x):\n",
    "#         self.val = x\n",
    "#         self.next = None\n",
    "\n",
    "class Solution(object):\n",
    "    def addTwoNumbers(self, l1, l2):\n",
    "        \"\"\"\n",
    "        :type l1: ListNode\n",
    "        :type l2: ListNode\n",
    "        :rtype: ListNode\n",
    "        \"\"\"\n",
    "        self.addNumbers(l1, l2, 0)\n",
    "        return l1\n",
    "    \n",
    "    \n",
    "    def addNumbers(self, l1, l2, carry):\n",
    "        temp = carry + l1.val + l2.val\n",
    "        carry = temp / 10\n",
    "        l1.val = temp % 10\n",
    "        print l1.val\n",
    "        if not l1.next and not l2.next:\n",
    "            if carry == 1:\n",
    "                l1.next = ListNode(1)\n",
    "        elif not l1.next or not l2.next:\n",
    "            if not l1.next:\n",
    "                l1.next = l2.next\n",
    "            l1 = l1.next\n",
    "            while carry == 1 and l1.next:\n",
    "                temp = carry + l1.val\n",
    "                carry = temp / 10\n",
    "                l1.val = temp % 10\n",
    "                l1 = l1.next\n",
    "            if carry == 1:\n",
    "                temp = carry + l1.val\n",
    "                carry = temp / 10\n",
    "                l1.val = temp % 10\n",
    "                if carry == 1:\n",
    "                    l1.next = ListNode(1)\n",
    "            elif l1.next and carry == 1:\n",
    "                    l1.next.val = l1.next.val + 1\n",
    "        else:\n",
    "            self.addNumbers(l1.next, l2.next, carry)\n",
    "\n",
    "\n",
    "l1 = convertListToLinkedList([1])\n",
    "l2 = convertListToLinkedList([9, 9])\n",
    "result = Solution().addTwoNumbers(l1, l2)\n",
    "print convertLinkedListToList(result)"
   ]
  },
  {
   "cell_type": "code",
   "execution_count": 19,
   "metadata": {},
   "outputs": [
    {
     "name": "stdout",
     "output_type": "stream",
     "text": [
      "[0, 0, 1]\n"
     ]
    }
   ],
   "source": [
    "# Definition for singly-linked list.\n",
    "# class ListNode(object):\n",
    "#     def __init__(self, x):\n",
    "#         self.val = x\n",
    "#         self.next = None\n",
    "\n",
    "class Solution(object):\n",
    "    def addTwoNumbers(self, l1, l2):\n",
    "        \"\"\"\n",
    "        :type l1: ListNode\n",
    "        :type l2: ListNode\n",
    "        :rtype: ListNode\n",
    "        \"\"\"\n",
    "        self.addNumbers(l1, l2, 0)\n",
    "        return l1\n",
    "    \n",
    "    \n",
    "    def addNumbers(self, l1, l2, carry):\n",
    "        temp = carry + l1.val + l2.val\n",
    "        carry = temp / 10\n",
    "        l1.val = temp % 10\n",
    "        if not l1.next and not l2.next:\n",
    "            if carry == 1:\n",
    "                l1.next = ListNode(1)\n",
    "        elif not l2.next:\n",
    "            self.addNumbers(l1.next, ListNode(0), carry)\n",
    "        elif not l1.next:\n",
    "            l1.next = ListNode(0)\n",
    "            self.addNumbers(l1.next, l2.next, carry)\n",
    "        else:\n",
    "            self.addNumbers(l1.next, l2.next, carry)\n",
    "\n",
    "\n",
    "l1 = convertListToLinkedList([1])\n",
    "l2 = convertListToLinkedList([9, 9])\n",
    "result = Solution().addTwoNumbers(l1, l2)\n",
    "print convertLinkedListToList(result)"
   ]
  },
  {
   "cell_type": "code",
   "execution_count": null,
   "metadata": {},
   "outputs": [],
   "source": []
  }
 ],
 "metadata": {
  "kernelspec": {
   "display_name": "Python 2",
   "language": "python",
   "name": "python2"
  },
  "language_info": {
   "codemirror_mode": {
    "name": "ipython",
    "version": 2
   },
   "file_extension": ".py",
   "mimetype": "text/x-python",
   "name": "python",
   "nbconvert_exporter": "python",
   "pygments_lexer": "ipython2",
   "version": "2.7.14"
  }
 },
 "nbformat": 4,
 "nbformat_minor": 2
}
