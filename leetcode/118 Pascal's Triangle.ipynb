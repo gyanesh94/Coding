{
 "cells": [
  {
   "cell_type": "markdown",
   "metadata": {},
   "source": [
    "[Question](https://leetcode.com/problems/pascals-triangle/)\n",
    "\n",
    "Given a non-negative integer numRows, generate the first numRows of Pascal's triangle"
   ]
  },
  {
   "cell_type": "code",
   "execution_count": 15,
   "metadata": {},
   "outputs": [
    {
     "name": "stdout",
     "output_type": "stream",
     "text": [
      "[[1], [1, 1], [1, 2, 1], [1, 3, 3, 1], [1, 4, 6, 4, 1]]\n"
     ]
    }
   ],
   "source": [
    "class Solution(object):\n",
    "    def generate(self, numRows):\n",
    "        \"\"\"\n",
    "        :type numRows: int\n",
    "        :rtype: List[List[int]]\n",
    "        \"\"\"\n",
    "        if numRows == 0:\n",
    "            return []\n",
    "        if numRows == 1:\n",
    "            return [[1]]\n",
    "        result = []\n",
    "        for i in range(numRows):\n",
    "            temp = [0] * (i + 1)\n",
    "            temp[0] = 1\n",
    "            temp[-1] = 1\n",
    "            result.append(temp)\n",
    "        startRow = 2\n",
    "        while startRow < numRows:\n",
    "            index = 1\n",
    "            while index < startRow:\n",
    "                result[startRow][index] = result[startRow - 1][index - 1] + result[startRow - 1][index]\n",
    "                index += 1\n",
    "            startRow += 1\n",
    "        return result\n",
    "        \n",
    "\n",
    "print(Solution().generate(5))"
   ]
  },
  {
   "cell_type": "code",
   "execution_count": 16,
   "metadata": {},
   "outputs": [
    {
     "ename": "TypeError",
     "evalue": "generate() takes 1 positional argument but 2 were given",
     "output_type": "error",
     "traceback": [
      "\u001b[0;31m---------------------------------------------------------------------------\u001b[0m",
      "\u001b[0;31mTypeError\u001b[0m                                 Traceback (most recent call last)",
      "\u001b[0;32m<ipython-input-16-9a8709016b73>\u001b[0m in \u001b[0;36m<module>\u001b[0;34m\u001b[0m\n\u001b[1;32m      8\u001b[0m \u001b[0;34m\u001b[0m\u001b[0m\n\u001b[1;32m      9\u001b[0m \u001b[0;34m\u001b[0m\u001b[0m\n\u001b[0;32m---> 10\u001b[0;31m \u001b[0mprint\u001b[0m\u001b[0;34m(\u001b[0m\u001b[0mSolution\u001b[0m\u001b[0;34m(\u001b[0m\u001b[0;34m)\u001b[0m\u001b[0;34m.\u001b[0m\u001b[0mgenerate\u001b[0m\u001b[0;34m(\u001b[0m\u001b[0;36m5\u001b[0m\u001b[0;34m)\u001b[0m\u001b[0;34m)\u001b[0m\u001b[0;34m\u001b[0m\u001b[0;34m\u001b[0m\u001b[0m\n\u001b[0m",
      "\u001b[0;31mTypeError\u001b[0m: generate() takes 1 positional argument but 2 were given"
     ]
    }
   ],
   "source": [
    "class Solution(object):\n",
    "    def generate(self, numRows):\n",
    "        pascal = [[1]*(i+1) for i in range(numRows)]\n",
    "        for i in range(numRows):\n",
    "            for j in range(1,i):\n",
    "                pascal[i][j] = pascal[i-1][j-1] + pascal[i-1][j]\n",
    "        return pascal\n",
    "        \n",
    "\n",
    "print(Solution().generate(5))"
   ]
  },
  {
   "cell_type": "code",
   "execution_count": null,
   "metadata": {},
   "outputs": [],
   "source": []
  }
 ],
 "metadata": {
  "kernelspec": {
   "display_name": "Python 3",
   "language": "python",
   "name": "python3"
  },
  "language_info": {
   "codemirror_mode": {
    "name": "ipython",
    "version": 3
   },
   "file_extension": ".py",
   "mimetype": "text/x-python",
   "name": "python",
   "nbconvert_exporter": "python",
   "pygments_lexer": "ipython3",
   "version": "3.7.3"
  }
 },
 "nbformat": 4,
 "nbformat_minor": 2
}
