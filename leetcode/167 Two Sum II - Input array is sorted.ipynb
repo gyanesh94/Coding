{
 "cells": [
  {
   "cell_type": "markdown",
   "metadata": {},
   "source": [
    "[Question](https://leetcode.com/problems/two-sum-ii-input-array-is-sorted/)\n",
    "\n",
    "Given an array of integers that is already **sorted in ascending order**, find two numbers such that they add up to a specific target number.\n",
    "\n",
    "The function twoSum should return indices of the two numbers such that they add up to the target, where index1 must be less than index2.\n",
    "\n",
    "**Note:**\n",
    "\n",
    "- Your returned answers (both index1 and index2) are not zero-based.\n",
    "- You may assume that each input would have *exactly* one solution and you may not use the *same* element twice.\n",
    "\n",
    "**Example:**\n",
    "\n",
    "```\n",
    "Input: numbers = [2,7,11,15], target = 9\n",
    "Output: [1,2]\n",
    "Explanation: The sum of 2 and 7 is 9. Therefore index1 = 1, index2 = 2.\n",
    "```"
   ]
  },
  {
   "cell_type": "code",
   "execution_count": 1,
   "metadata": {},
   "outputs": [],
   "source": [
    "from typing import List\n",
    "import unittest"
   ]
  },
  {
   "cell_type": "code",
   "execution_count": null,
   "metadata": {},
   "outputs": [],
   "source": [
    "class Solution:\n",
    "    def twoSum(self, numbers: List[int], target: int) -> List[int]:\n",
    "        indexes = dict()\n",
    "        index = 1\n",
    "        for num in numbers:\n",
    "            if num in indexes:\n",
    "                return [indexes[num], index]\n",
    "            indexes[target - num] = index\n",
    "            index += 1\n",
    "        return []"
   ]
  },
  {
   "cell_type": "markdown",
   "metadata": {},
   "source": [
    "Extra's"
   ]
  },
  {
   "cell_type": "code",
   "execution_count": null,
   "metadata": {},
   "outputs": [],
   "source": [
    "# two-pointer\n",
    "def twoSum1(self, numbers, target):\n",
    "    l, r = 0, len(numbers)-1\n",
    "    while l < r:\n",
    "        s = numbers[l] + numbers[r]\n",
    "        if s == target:\n",
    "            return [l+1, r+1]\n",
    "        elif s < target:\n",
    "            l += 1\n",
    "        else:\n",
    "            r -= 1"
   ]
  },
  {
   "cell_type": "code",
   "execution_count": null,
   "metadata": {},
   "outputs": [],
   "source": [
    "# binary search        \n",
    "def twoSum(self, numbers, target):\n",
    "    for i in xrange(len(numbers)):\n",
    "        l, r = i+1, len(numbers)-1\n",
    "        tmp = target - numbers[i]\n",
    "        while l <= r:\n",
    "            mid = l + (r-l)//2\n",
    "            if numbers[mid] == tmp:\n",
    "                return [i+1, mid+1]\n",
    "            elif numbers[mid] < tmp:\n",
    "                l = mid+1\n",
    "            else:\n",
    "                r = mid-1"
   ]
  }
 ],
 "metadata": {
  "kernelspec": {
   "display_name": "Python 3",
   "language": "python",
   "name": "python3"
  },
  "language_info": {
   "codemirror_mode": {
    "name": "ipython",
    "version": 3
   },
   "file_extension": ".py",
   "mimetype": "text/x-python",
   "name": "python",
   "nbconvert_exporter": "python",
   "pygments_lexer": "ipython3",
   "version": "3.7.3"
  }
 },
 "nbformat": 4,
 "nbformat_minor": 2
}
