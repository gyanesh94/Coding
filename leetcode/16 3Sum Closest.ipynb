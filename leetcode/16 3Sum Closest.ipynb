{
 "cells": [
  {
   "cell_type": "markdown",
   "metadata": {},
   "source": [
    "[Question](https://leetcode.com/problems/3sum-closest/)"
   ]
  },
  {
   "cell_type": "code",
   "execution_count": 3,
   "metadata": {},
   "outputs": [],
   "source": [
    "import math"
   ]
  },
  {
   "cell_type": "code",
   "execution_count": 34,
   "metadata": {},
   "outputs": [
    {
     "name": "stdout",
     "output_type": "stream",
     "text": [
      "-3\n",
      "0\n",
      "3\n",
      "-1\n"
     ]
    }
   ],
   "source": [
    "class Solution:\n",
    "    def threeSumClosest(self, nums: 'List[int]', target: int) -> int:\n",
    "        nums.sort()\n",
    "        num_len = len(nums)\n",
    "        l = 0\n",
    "        best_sum = nums[l] + nums[l + 1] + nums[-1]\n",
    "        while l < num_len - 2:\n",
    "            m = l + 1\n",
    "            r = num_len - 1\n",
    "            while m < r:\n",
    "                temp_sum = nums[l] + nums[m] + nums[r]\n",
    "                if temp_sum == target:\n",
    "                    return temp_sum\n",
    "                \n",
    "                if abs(temp_sum + (-1 * target)) < abs(best_sum + (-1 * target)):\n",
    "                    best_sum = temp_sum\n",
    "\n",
    "                if temp_sum < target:\n",
    "                    m += 1\n",
    "                else:\n",
    "                    r -= 1\n",
    "            l += 1\n",
    "        return best_sum\n",
    "\n",
    "\n",
    "            \n",
    "print(Solution().threeSumClosest([-1, 2, 1, -4], 1))\n",
    "print(Solution().threeSumClosest([0, 0, 0], 1))\n",
    "print(Solution().threeSumClosest([1,1,1,1], 0))\n",
    "print(Solution().threeSumClosest([1,1,-1,-1,3], -1))           # Output -1"
   ]
  },
  {
   "cell_type": "code",
   "execution_count": null,
   "metadata": {},
   "outputs": [],
   "source": []
  }
 ],
 "metadata": {
  "kernelspec": {
   "display_name": "Python 3",
   "language": "python",
   "name": "python3"
  },
  "language_info": {
   "codemirror_mode": {
    "name": "ipython",
    "version": 3
   },
   "file_extension": ".py",
   "mimetype": "text/x-python",
   "name": "python",
   "nbconvert_exporter": "python",
   "pygments_lexer": "ipython3",
   "version": "3.7.0"
  }
 },
 "nbformat": 4,
 "nbformat_minor": 2
}
