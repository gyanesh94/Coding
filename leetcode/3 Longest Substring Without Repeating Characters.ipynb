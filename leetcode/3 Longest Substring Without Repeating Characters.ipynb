{
 "cells": [
  {
   "cell_type": "markdown",
   "metadata": {},
   "source": [
    "[Question](https://leetcode.com/problems/longest-substring-without-repeating-characters/description/)\n",
    "\n",
    "Given a string, find the length of the longest substring without repeating characters.\n",
    "\n",
    "Example 1:\n",
    "\n",
    "```\n",
    "Input: \"abcabcbb\"\n",
    "Output: 3 \n",
    "Explanation: The answer is \"abc\", with the length of 3. \n",
    "```\n",
    "\n",
    "Example 2:\n",
    "\n",
    "```\n",
    "Input: \"bbbbb\"\n",
    "Output: 1\n",
    "Explanation: The answer is \"b\", with the length of 1.\n",
    "```\n",
    "\n",
    "Example 3:\n",
    "\n",
    "```\n",
    "Input: \"pwwkew\"\n",
    "Output: 3\n",
    "Explanation: The answer is \"wke\", with the length of 3. \n",
    "             Note that the answer must be a substring, \"pwke\" is a subsequence and not a substring.\n",
    "```"
   ]
  },
  {
   "cell_type": "code",
   "execution_count": 17,
   "metadata": {},
   "outputs": [
    {
     "name": "stdout",
     "output_type": "stream",
     "text": [
      "abc\n",
      "3\n",
      "b\n",
      "1\n",
      "wke\n",
      "3\n",
      "\n",
      "0\n",
      " \n",
      "1\n",
      "vdf\n",
      "3\n"
     ]
    }
   ],
   "source": [
    "class Solution(object):\n",
    "    def lengthOfLongestSubstring(self, s):\n",
    "        \"\"\"\n",
    "        :type s: str\n",
    "        :rtype: int\n",
    "        \"\"\"\n",
    "        maxLengthSoFar = 0\n",
    "        maxString = \"\"\n",
    "        currentMaxLength = 0\n",
    "        usedCharachters = []\n",
    "        for c in s:\n",
    "            if c in usedCharachters:\n",
    "                # Considering previous characters also if repetitve character comes\n",
    "                index = usedCharachters.index(c)\n",
    "                if index + 1 == len(usedCharachters):\n",
    "                    currentMaxLength = 1\n",
    "                    usedCharachters = [c]\n",
    "                else:\n",
    "                    usedCharachters = usedCharachters[(index + 1):] + [c]\n",
    "                    currentMaxLength = len(usedCharachters)\n",
    "            else:\n",
    "                currentMaxLength += 1\n",
    "                usedCharachters.append(c)\n",
    "            if maxLengthSoFar < currentMaxLength:\n",
    "                maxLengthSoFar = currentMaxLength\n",
    "                maxString = \"\".join(usedCharachters)\n",
    "        print maxString\n",
    "        return maxLengthSoFar\n",
    "\n",
    "print Solution().lengthOfLongestSubstring(\"abcabcbb\")\n",
    "print Solution().lengthOfLongestSubstring(\"bbbbb\")\n",
    "print Solution().lengthOfLongestSubstring(\"pwwkew\")\n",
    "print Solution().lengthOfLongestSubstring(\"\")\n",
    "print Solution().lengthOfLongestSubstring(\" \")\n",
    "print Solution().lengthOfLongestSubstring(\"dvdf\")"
   ]
  },
  {
   "cell_type": "code",
   "execution_count": 15,
   "metadata": {},
   "outputs": [
    {
     "name": "stdout",
     "output_type": "stream",
     "text": [
      "3\n",
      "1\n",
      "3\n",
      "0\n",
      "1\n",
      "3\n"
     ]
    }
   ],
   "source": [
    "class Solution(object):\n",
    "    def lengthOfLongestSubstring(self, s):\n",
    "        \"\"\"\n",
    "        :type s: str\n",
    "        :rtype: int\n",
    "        \"\"\"\n",
    "        maxLengthSoFar = 0\n",
    "        currentMaxLength = 0\n",
    "        usedCharachters = []\n",
    "        for c in s:\n",
    "            if c in usedCharachters:\n",
    "                index = usedCharachters.index(c)\n",
    "                if index + 1 == len(usedCharachters):\n",
    "                    currentMaxLength = 1\n",
    "                    usedCharachters = [c]\n",
    "                else:\n",
    "                    usedCharachters = usedCharachters[(index + 1):] + [c]\n",
    "                    currentMaxLength = len(usedCharachters)     \n",
    "            else:\n",
    "                currentMaxLength += 1\n",
    "                usedCharachters.append(c)\n",
    "            maxLengthSoFar = max(maxLengthSoFar, currentMaxLength)\n",
    "        return maxLengthSoFar\n",
    "\n",
    "print Solution().lengthOfLongestSubstring(\"abcabcbb\")\n",
    "print Solution().lengthOfLongestSubstring(\"bbbbb\")\n",
    "print Solution().lengthOfLongestSubstring(\"pwwkew\")\n",
    "print Solution().lengthOfLongestSubstring(\"\")\n",
    "print Solution().lengthOfLongestSubstring(\" \")\n",
    "# Considering previous characters also if repetitve character comes\n",
    "print Solution().lengthOfLongestSubstring(\"dvdf\")"
   ]
  },
  {
   "cell_type": "code",
   "execution_count": null,
   "metadata": {},
   "outputs": [],
   "source": []
  }
 ],
 "metadata": {
  "kernelspec": {
   "display_name": "Python 2",
   "language": "python",
   "name": "python2"
  },
  "language_info": {
   "codemirror_mode": {
    "name": "ipython",
    "version": 2
   },
   "file_extension": ".py",
   "mimetype": "text/x-python",
   "name": "python",
   "nbconvert_exporter": "python",
   "pygments_lexer": "ipython2",
   "version": "2.7.14"
  }
 },
 "nbformat": 4,
 "nbformat_minor": 2
}
