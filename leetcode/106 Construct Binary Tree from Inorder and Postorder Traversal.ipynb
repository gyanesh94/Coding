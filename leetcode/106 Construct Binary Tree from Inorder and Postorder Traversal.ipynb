{
 "cells": [
  {
   "cell_type": "markdown",
   "metadata": {},
   "source": [
    "[Question](https://leetcode.com/problems/construct-binary-tree-from-inorder-and-postorder-traversal/description/)\n",
    "\n",
    "Given inorder and postorder traversal of a tree, construct the binary tree.\n",
    "\n",
    "Note:\n",
    "You may assume that duplicates do not exist in the tree.\n",
    "\n",
    "For example, given\n",
    "\n",
    "inorder = [9,3,15,20,7]\n",
    "postorder = [9,15,7,20,3]\n",
    "Return the following binary tree:\n",
    "```\n",
    "    3\n",
    "   / \\\n",
    "  9  20\n",
    "    /  \\\n",
    "   15   7\n",
    "```"
   ]
  },
  {
   "cell_type": "code",
   "execution_count": 1,
   "metadata": {},
   "outputs": [],
   "source": [
    "from common_code.list_to_tree_conversion import TreeNode"
   ]
  },
  {
   "cell_type": "markdown",
   "metadata": {},
   "source": [
    "### Unoptimized code\n",
    "Too much space taken and time complexity is high"
   ]
  },
  {
   "cell_type": "code",
   "execution_count": 3,
   "metadata": {},
   "outputs": [
    {
     "data": {
      "text/plain": [
       "<common_code.list_to_tree_conversion.TreeNode at 0x103cb02d0>"
      ]
     },
     "execution_count": 3,
     "metadata": {},
     "output_type": "execute_result"
    }
   ],
   "source": [
    "# Definition for a binary tree node.\n",
    "# class TreeNode(object):\n",
    "#     def __init__(self, x):\n",
    "#         self.val = x\n",
    "#         self.left = None\n",
    "#         self.right = None\n",
    "\n",
    "\n",
    "class Solution(object):\n",
    "    def buildTree(self, inorder, postorder):\n",
    "        \"\"\"\n",
    "        :type inorder: List[int]\n",
    "        :type postorder: List[int]\n",
    "        :rtype: TreeNode\n",
    "        \"\"\"\n",
    "        if not inorder and not postorder:\n",
    "            return None\n",
    "        len_inorder = len(inorder)\n",
    "        len_postorder = len(postorder)\n",
    "        root_val = postorder[-1]\n",
    "        root = TreeNode(root_val)\n",
    "        index_root_inorder = inorder.index(root_val)\n",
    "        if index_root_inorder == 0:\n",
    "            root.right = self.buildTree(inorder[1:], postorder[:-1])\n",
    "        elif index_root_inorder == len_inorder - 1:\n",
    "            root.left = self.buildTree(inorder[:-1], postorder[:-1])\n",
    "        else:\n",
    "            # create new left and right array at every step\n",
    "            left_inorder = inorder[:index_root_inorder]\n",
    "            right_inorder = inorder[index_root_inorder + 1:]\n",
    "            root.left = self.buildTree(left_inorder, filter(lambda x: x in left_inorder, postorder))\n",
    "            root.right = self.buildTree(right_inorder, filter(lambda x: x in right_inorder, postorder))\n",
    "        return root\n",
    "\n",
    "\n",
    "inorder = [9, 3, 15, 20, 7]\n",
    "postorder = [9, 15, 7, 20, 3]\n",
    "\n",
    "Solution().buildTree(inorder, postorder)\n",
    "\n",
    "inorder = [1, 2, 3, 4]\n",
    "postorder = [1, 4, 3, 2]\n",
    "\n",
    "Solution().buildTree(inorder, postorder)"
   ]
  },
  {
   "cell_type": "markdown",
   "metadata": {},
   "source": [
    "### Optimized code"
   ]
  },
  {
   "cell_type": "code",
   "execution_count": 4,
   "metadata": {},
   "outputs": [
    {
     "data": {
      "text/plain": [
       "<common_code.list_to_tree_conversion.TreeNode at 0x103cb0650>"
      ]
     },
     "execution_count": 4,
     "metadata": {},
     "output_type": "execute_result"
    }
   ],
   "source": [
    "class Solution(object):\n",
    "    def buildTree(self, inorder, postorder):\n",
    "        \"\"\"\n",
    "        :type inorder: List[int]\n",
    "        :type postorder: List[int]\n",
    "        :rtype: TreeNode\n",
    "        \"\"\"\n",
    "        self.postorder = postorder\n",
    "        self.inorder = inorder\n",
    "        return self._buildTree(0, len(inorder))\n",
    "\n",
    "    def _buildTree(self, start, end):\n",
    "        if start < end:\n",
    "            root = TreeNode(self.postorder.pop())\n",
    "            index = self.inorder.index(root.val)\n",
    "            root.right = self._buildTree(index + 1, end)\n",
    "            root.left = self._buildTree(start, index)\n",
    "            return root\n",
    "\n",
    "inorder = [9, 3, 15, 20, 7]\n",
    "postorder = [9, 15, 7, 20, 3]\n",
    "\n",
    "Solution().buildTree(inorder, postorder)\n",
    "\n",
    "inorder = [1, 2, 3, 4]\n",
    "postorder = [1, 4, 3, 2]\n",
    "\n",
    "Solution().buildTree(inorder, postorder)"
   ]
  },
  {
   "cell_type": "code",
   "execution_count": null,
   "metadata": {},
   "outputs": [],
   "source": []
  }
 ],
 "metadata": {
  "kernelspec": {
   "display_name": "Python 2",
   "language": "python",
   "name": "python2"
  },
  "language_info": {
   "codemirror_mode": {
    "name": "ipython",
    "version": 2
   },
   "file_extension": ".py",
   "mimetype": "text/x-python",
   "name": "python",
   "nbconvert_exporter": "python",
   "pygments_lexer": "ipython2",
   "version": "2.7.14"
  }
 },
 "nbformat": 4,
 "nbformat_minor": 2
}
